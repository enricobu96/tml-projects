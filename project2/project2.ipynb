{
 "cells": [
  {
   "cell_type": "markdown",
   "metadata": {},
   "source": [
    "University of Helsinki, Master's Programme in Data Science  \n",
    "DATA20019 Trustworthy Machine Learning, Autumn 2021  \n",
    "Antti Honkela and Ossi Räisä  \n",
    "\n",
    "# Project 2: Real-life privacy-preserving machine learning\n",
    "\n",
    "Deadline for returning the solutions: 28 November 23:55.\n",
    "\n",
    "## General instructions (IMPORTANT!)\n",
    "\n",
    "1. This is an individual project. You can discuss the solutions with other students, but everyone needs to write their own code and answers.\n",
    "2. Please return your solutions as a notebook. When returning your solutions, please leave all output in the notebook.\n",
    "3. When returning your solutions, please make sure the notebook can be run cleanly using \"Cell\" / \"Run All\".\n",
    "4. Please make sure there are no dependencies between solutions to different problems.\n",
    "5. Please make sure that your notebook will not depend on any local files.\n",
    "6. Please make sure that the solutions for each problem in your notebook will produce the same results when run multiple times, i.e. remember to seed any random number generators you use (`numpy.random.seed()`, `torch.manual_seed()`!).\n"
   ]
  },
  {
   "cell_type": "markdown",
   "metadata": {
    "tags": []
   },
   "source": [
    "## Task 1: Differentially private logistic regression with DP-SGD\n",
    "\n",
    "The Opacus (https://opacus.ai/) library provides implementations of many differentially private optimisation algorithms for deep learning and other models for the PyTorch (https://pytorch.org/) library. In order to perform these exercises, you will need to install Opacus, PyTorch and their dependencies according to instructions given on the websites. If you have not used PyTorch before, https://pytorch.org/tutorials/beginner/deep_learning_60min_blitz.html is a good tutorial on the basics.\n",
    "\n",
    "In order to study Opacus, we will use logistic regression on the UCI Adult data set (https://archive.ics.uci.edu/ml/datasets/Adult). (The data set is a standard benchmark data set that is available in various packages - feel free to use one of those.)  \n",
    "\n",
    "A simple example implementation of the model is available at (https://www.cs.helsinki.fi/u/oraisa/tml/dp_log_reg_opacus.py).\n",
    "The code has been adapted from tutorials provided with Opacus.\n",
    "\n",
    "The definition of the logistic regression model binary classification is itself very straightforward in PyTorch, simply using a single fully connected linear layer with cross entropy loss:\n",
    "```{python}\n",
    "class LogisticRegression(nn.Module):\n",
    "    def __init__(self, dim, bias=True):\n",
    "        super().__init__()\n",
    "        self.dim = dim\n",
    "        # Define logistic regression using torch.nn layer and loss function\n",
    "        self.linear = nn.Linear(dim, 1, bias=bias)\n",
    "        self.loss = nn.BCEWithLogitsLoss(reduction=\"sum\")\n",
    "```\n",
    "Training with privacy is done using the `PrivacyEngine` class, which is simply attached to \n",
    "any supported PyTorch optimiser.\n",
    "```{python}\n",
    "privacy_engine = PrivacyEngine(\n",
    "    model,\n",
    "    sample_rate=sample_rate,\n",
    "    alphas=[1 + x / 10.0 for x in range(1, 100)] + list(range(12, 200)),\n",
    "    noise_multiplier=noise_multiplier,\n",
    "    max_grad_norm=clip_bound,\n",
    "    secure_rng=False, # Should set to True for production use\n",
    ")\n",
    "# Fix randomness, will throw an error with secure_rng=True\n",
    "privacy_engine._set_seed(random_seed) \n",
    "privacy_engine.attach(optimizer)\n",
    "```\n",
    "Data subsampling is done by accessing the data through a `DataLoader` object that is configured with an Opacus-specific batch sampler.\n",
    "```{python}\n",
    "train_loader = DataLoader(\n",
    "    train_tensor,\n",
    "    batch_sampler=UniformWithReplacementSampler(\n",
    "        num_samples=len(train_tensor),\n",
    "        sample_rate=sample_rate,\n",
    "        # Should use a cryptographically secure PRNG in production\n",
    "        generator=torch.Generator().manual_seed(random_seed), \n",
    "    ),\n",
    ")\n",
    "```\n",
    "The `secure_rng` and `generator` parameters of `PrivacyEngine` and `UniformWithReplacementSampler` define the random number generators used for noise and minibatch sampling. In this exercise, we use the default RNGs of PyTorch, and manually seed them for reproducibility, but true DP guarantees require using a cryptographically secure RNG.\n",
    "\n",
    "The `alphas` parameter of `PrivacyEngine` is related to Rényi differential privacy (RDP), which Opacus uses internally to compute privacy bounds. RDP is an alternative definition of DP, where privacy bounds are parameterised by an $(\\alpha, \\epsilon)$-pair. Opacus computes RDP bounds for the given $\\alpha$ values, converts each RDP bound to an $(\\epsilon, \\delta)$-bound with $\\delta$ given, and returns the smallest $\\epsilon$, along with the corresponding $\\alpha$.\n",
    "This means that if the given list of $\\alpha$ values does not contain the optimal $\\alpha$, the returned $\\epsilon$ values are too large. As a simple heuristic, if the returned $\\alpha$ value is one of the bounds of the given list of $\\alpha$ values, you should expand the list.\n",
    "\n",
    "The rest of the example provides supporting architecture. The `generate_data` function generates a small test dataset, and `create_data_loaders` creates `DataLoader` objects for training and test data that can be passed to the `train` and `test` functions. Key parameters of the algorithm are defined at the end of the file and given as parameters to the `train` function. These include:\n",
    "```{python}\n",
    "# Learning rate for training\n",
    "learning_rate = 0.05\n",
    "# Ratio of the standard deviation to the clipping norm\n",
    "noise_multiplier = 2\n",
    "# Clipping norm\n",
    "clip_bound = 1\n",
    "# Batch size as a fraction of full data size\n",
    "sample_rate = 0.03\n",
    "# Number of epochs\n",
    "num_epochs = 2\n",
    "```\n",
    "\n",
    "`learning_rate` is the initial learning rate for the SGD optimiser. Larger value means faster learning but can cause instability.  \n",
    "`noise_multiplier` controls the amount of noise added in DP-SGD: higher value means more noise. The value is defined relative to the gradient clip bound.  \n",
    "`clip_bound` is the maximum norm at which per-example gradients are clipped. Smaller values mean less noise with the same level of privacy, but too small values can bias the results and make learning impossible.  \n",
    "`sample_rate` is the fraction of full data used for each minibatch, which impacts privacy via amplification from subsampling. While a smaller sample rate increases privacy for a single update, it also increases the number of updates in a single epoch, which reduces privacy. The latter effect tends to be stronger than the first, so increasing sample rate increases privacy, but having too few updates limits the amount of learning.  \n",
    "`num_epochs` controls the length of training as a number of passes over the entire data.\n",
    "\n",
    "i. Test how these parameters (clip bound, sample rate, noise multiplier, learning rate and number of epochs) affect the accuracy of the classifier and its privacy. (You can use the test dataset from `generate_test_data` or the Adult dataset.)\n",
    "\n",
    "ii. How accurate classifier can you build to predict if an individual has an income of at most 50k with the Adult dataset, using DP with $\\epsilon=1, \\delta = 10^{-5}$? Report your accuracy on a separate test set not used in learning. (Opacus does not offer an easy way to set the parameters to get $\\epsilon = 1$, so you must tweak the parameters such that $\\epsilon \\leq 1$. You can use the function `check_privacy` to evaluate the privacy level at given parameters without actually running the optimisation.)\n",
    "\n",
    "Hint: the data set includes many categorical variables. In order to use these, you will need to use a one-hot encoding with $n-1$ variables used to denote $n$ values so that $k$th value is represented by value 1 in $k-1$st variable and zeros otherwise. You do not need to use all of the variables for DP training, as a large number of variables increases the noise DP-SGD has to add, while some of the variables may not be useful for the prediction task.\n",
    "\n",
    "Note: as noted at the lecture, testing several hyperparameters and choosing the best has an impact on the privacy guarantees.\n",
    "\n",
    "Note: Unlike what the name suggests, `UniformWithReplacementSampler` samples a minibatch by selecting each element independently with the probability `sample_rate`. This implies that different minibatches will be of different sizes. This form of sampling works well with add/remove neighbourhoods that are commonly used in DP deep learning."
   ]
  },
  {
   "cell_type": "markdown",
   "metadata": {},
   "source": [
    "### Answer"
   ]
  },
  {
   "cell_type": "markdown",
   "metadata": {},
   "source": [
    "#### Question I"
   ]
  },
  {
   "cell_type": "markdown",
   "metadata": {},
   "source": [
    "For this question I used the random data generated by `generate_random_data()` function. I tested $\\epsilon$ and accuracy on different parameters:\n",
    "\n",
    "- learning_rate = [0.01, 0.05, 0.1, 0.5]\n",
    "- noise_multiplier = [1, 1.5, 2, 2.5]\n",
    "- clip_bound = [0.5, 1, 1.5, 2]\n",
    "- sample_rate = [0.01, 0.03, 0.1, 0.2]\n",
    "\n",
    "Then, I created a plot for each hyperparameter, relating accuracy score and $\\epsilon$ on the number of epochs."
   ]
  },
  {
   "cell_type": "markdown",
   "metadata": {},
   "source": [
    "##### Preparatory code"
   ]
  },
  {
   "cell_type": "code",
   "execution_count": null,
   "metadata": {},
   "outputs": [],
   "source": [
    "import sys\n",
    "!{sys.executable} -m pip install torch opacus catboost"
   ]
  },
  {
   "cell_type": "code",
   "execution_count": 10,
   "metadata": {},
   "outputs": [],
   "source": [
    "import numpy as np\n",
    "import torch\n",
    "import torch.nn as nn\n",
    "import opacus\n",
    "from torch.utils.data import DataLoader, TensorDataset\n",
    "from opacus.utils.uniform_sampler import UniformWithReplacementSampler\n",
    "import matplotlib.pyplot as plt\n",
    "import warnings\n",
    "warnings.filterwarnings('ignore')\n",
    "\n",
    "class LogisticRegression(nn.Module):\n",
    "    def __init__(self, dim, bias=True):\n",
    "        super().__init__()\n",
    "        self.dim = dim\n",
    "        self.linear = nn.Linear(dim, 1, bias=bias)\n",
    "        self.loss = nn.BCEWithLogitsLoss(reduction=\"sum\")\n",
    "    \n",
    "    def forward(self, x):\n",
    "        return self.linear(x).view(-1)\n",
    "\n",
    "    def train_step(self, batch):\n",
    "        x, y = batch\n",
    "        out = self(x)\n",
    "        loss = self.loss(out, y)\n",
    "        return loss\n",
    "\n",
    "    def test_step(self, batch):\n",
    "        x, y = batch\n",
    "        out = self(x)\n",
    "        loss = self.loss(out, y)\n",
    "        preds = out > 0\n",
    "        corrects = torch.tensor(torch.sum(preds == y).item())\n",
    "        return loss, corrects\n",
    "\n",
    "def train(model, train_loader, opt_func, learning_rate, num_epochs, sample_rate, noise_multiplier, clip_bound, delta, random_seed=474237, verbose=False):\n",
    "    optimizer = opt_func(model.parameters(), learning_rate)\n",
    "    privacy_engine = opacus.PrivacyEngine(\n",
    "        model,\n",
    "        sample_rate=sample_rate,\n",
    "        alphas=[1 + x / 10.0 for x in range(1, 100)] + list(range(12, 200)),\n",
    "        noise_multiplier=noise_multiplier,\n",
    "        max_grad_norm=clip_bound,\n",
    "        secure_rng=False,\n",
    "    )\n",
    "    privacy_engine._set_seed(random_seed)\n",
    "    privacy_engine.attach(optimizer)\n",
    "\n",
    "    for epoch in range(num_epochs):\n",
    "        losses = []\n",
    "        for batch in train_loader:\n",
    "            loss = model.train_step(batch)\n",
    "            loss.backward()\n",
    "            losses.append(loss)\n",
    "            optimizer.step()\n",
    "            optimizer.zero_grad()\n",
    "        \n",
    "        if verbose:\n",
    "            print(\"Epoch {}, loss = {}\".format(epoch + 1, torch.sum(loss) / len(train_loader)))\n",
    "\n",
    "    epsilon, alpha = optimizer.privacy_engine.get_privacy_spent(delta)\n",
    "    return epsilon, alpha\n",
    "\n",
    "def test(model, test_loader):\n",
    "    with torch.no_grad():\n",
    "        losses = []\n",
    "        accuracies = []\n",
    "        total_size = 0\n",
    "        for batch in test_loader:\n",
    "            total_size += len(batch[1])\n",
    "            loss, corrects = model.test_step(batch)\n",
    "            losses.append(loss)\n",
    "            accuracies.append(corrects)\n",
    "\n",
    "        average_loss = np.array(loss).sum() / total_size\n",
    "        total_accuracy = np.array(accuracies).sum() / total_size\n",
    "        return average_loss, total_accuracy\n",
    "\n",
    "def create_data_loaders(train_tensor, test_tensor, sample_rate, random_seed=4732842):\n",
    "    train_loader = DataLoader(\n",
    "        train_tensor,\n",
    "        batch_sampler=UniformWithReplacementSampler(\n",
    "            num_samples=len(train_tensor),\n",
    "            sample_rate=sample_rate,\n",
    "            generator=torch.Generator().manual_seed(random_seed),\n",
    "        ),\n",
    "    )\n",
    "    test_loader = DataLoader(test_tensor, 64)\n",
    "    return train_loader, test_loader\n",
    "\n",
    "def check_privacy(sample_rate, noise_multiplier, num_epochs, delta = 1e-5,\n",
    "                  alphas = [1 + x / 10.0 for x in range(1, 100)] + list(range(12, 200))):\n",
    "    rdp = opacus.privacy_analysis.compute_rdp(sample_rate, noise_multiplier, int(1 / sample_rate) * num_epochs, alphas)\n",
    "    epsilon, opt_order = opacus.privacy_analysis.get_privacy_spent(alphas, rdp, delta)\n",
    "    return epsilon, opt_order\n",
    "\n",
    "def generate_random_data():\n",
    "    np.random.seed(4242)\n",
    "\n",
    "    n_train = 2000\n",
    "    n_test = 2000\n",
    "    input_dim = 5\n",
    "\n",
    "    N = n_train + n_test\n",
    "    X0 = np.random.randn(N, input_dim)\n",
    "    temp = X0 @ np.random.randn(input_dim, 1) + np.random.randn(N, 1)\n",
    "    Y0 = np.round(1/(1+np.exp(-temp)))\n",
    "\n",
    "    train_X = X0[0:n_train, :]\n",
    "    test_X = X0[n_train:N, :]\n",
    "    train_Y = Y0[0:n_train, 0]\n",
    "    test_Y = Y0[n_train:N, 0]\n",
    "    train_X = np.array(train_X, dtype=np.float32)\n",
    "    test_X = np.array(test_X, dtype=np.float32)\n",
    "    train_Y = np.array(train_Y, dtype=np.int32)\n",
    "    test_Y = np.array(test_Y, dtype=np.int32)\n",
    "\n",
    "    train_tensor = TensorDataset(torch.tensor(train_X), torch.tensor(train_Y, dtype=torch.float32))\n",
    "    test_tensor = TensorDataset(torch.tensor(test_X), torch.tensor(test_Y, dtype=torch.float32))\n",
    "\n",
    "    return train_tensor, test_tensor"
   ]
  },
  {
   "cell_type": "markdown",
   "metadata": {},
   "source": [
    "##### Actual code"
   ]
  },
  {
   "cell_type": "code",
   "execution_count": 23,
   "metadata": {},
   "outputs": [
    {
     "data": {
      "text/plain": [
       "2000"
      ]
     },
     "execution_count": 23,
     "metadata": {},
     "output_type": "execute_result"
    }
   ],
   "source": [
    "# EXECUTION\n",
    "torch.manual_seed(472368)\n",
    "np.random.seed(0)\n",
    "train_tensor, test_tensor = generate_random_data()\n",
    "input_dim = train_tensor[0][0].size(dim=0)\n",
    "\n",
    "delta = 1e-5\n",
    "\n",
    "# Stock values\n",
    "learning_rate = 0.05\n",
    "noise_multiplier = 2\n",
    "clip_bound = 1\n",
    "sample_rate = 0.03\n",
    "num_epochs = 2\n",
    "\n",
    "# Experiments\n",
    "learning_rates = [0.01, 0.05, 0.1, 0.5]\n",
    "noise_multipliers = [1, 1.5, 2, 2.5]\n",
    "clip_bounds = [0.5, 1, 1.5, 2]\n",
    "sample_rates = [0.01, 0.03, 0.1, 0.2]"
   ]
  },
  {
   "cell_type": "code",
   "execution_count": 11,
   "metadata": {},
   "outputs": [
    {
     "data": {
      "image/png": "[encoded data removed]",
      "text/plain": [
       "<Figure size 432x288 with 1 Axes>"
      ]
     },
     "metadata": {
      "needs_background": "light"
     },
     "output_type": "display_data"
    },
    {
     "name": "stdout",
     "output_type": "stream",
     "text": [
      "Best accuracy = 0.843 at epoch 10 \n",
      "Best epsilon = 0.4370271431009314 at epoch 1\n"
     ]
    }
   ],
   "source": [
    "# Test learning rates\n",
    "best_eps = float('inf')\n",
    "best_eps_ep = 0\n",
    "best_acc = 0\n",
    "best_acc_ep = 0\n",
    "for lr in learning_rates:\n",
    "    x = []\n",
    "    y = []\n",
    "    train_loader, test_loader = create_data_loaders(train_tensor, test_tensor, sample_rate)\n",
    "\n",
    "    for epoch in range(1,20):\n",
    "        model = LogisticRegression(input_dim)\n",
    "        epsilon, alpha = train(\n",
    "            model, train_loader, torch.optim.SGD, lr, epoch, sample_rate,\n",
    "            noise_multiplier, clip_bound, delta\n",
    "        )\n",
    "        x.append(epsilon)\n",
    "        _, total_accuracy = test(model, test_loader)\n",
    "        y.append(total_accuracy)\n",
    "        if epsilon <= best_eps:\n",
    "            best_eps = epsilon\n",
    "            best_eps_ep = epoch\n",
    "        if best_acc <= total_accuracy:\n",
    "            best_acc = total_accuracy\n",
    "            best_acc_ep = epoch\n",
    "    plt.plot(x, y, label=lr)\n",
    "plt.xlabel('epsilon')\n",
    "plt.ylabel('accuracy')\n",
    "plt.legend()\n",
    "plt.show()\n",
    "print('Best accuracy =', best_acc, 'at epoch', best_acc_ep, '\\nBest epsilon =', best_eps, 'at epoch', best_eps_ep)"
   ]
  },
  {
   "cell_type": "code",
   "execution_count": 12,
   "metadata": {},
   "outputs": [
    {
     "name": "stdout",
     "output_type": "stream",
     "text": [
      "0.8305 3.425823765852539\n",
      "0.83 1.606505346219157\n",
      "0.83 1.0631997509804052\n",
      "0.8275 0.7975639913311465\n"
     ]
    },
    {
     "data": {
      "image/png": "[encoded data removed]",
      "text/plain": [
       "<Figure size 432x288 with 1 Axes>"
      ]
     },
     "metadata": {
      "needs_background": "light"
     },
     "output_type": "display_data"
    },
    {
     "name": "stdout",
     "output_type": "stream",
     "text": [
      "Best accuracy = 0.843 at epoch 10 \n",
      "Best epsilon = 0.307764751385219 at epoch 1\n"
     ]
    }
   ],
   "source": [
    "# Test noise multiplier\n",
    "best_eps = float('inf')\n",
    "best_eps_ep = 0\n",
    "best_acc = 0\n",
    "best_acc_ep = 0\n",
    "for nm in noise_multipliers:\n",
    "    x = []\n",
    "    y = []\n",
    "    train_loader, test_loader = create_data_loaders(train_tensor, test_tensor, sample_rate)\n",
    "\n",
    "    for epoch in range(1,20):\n",
    "        model = LogisticRegression(input_dim)\n",
    "        epsilon, alpha = train(\n",
    "            model, train_loader, torch.optim.SGD, learning_rate, epoch, sample_rate,\n",
    "            nm, clip_bound, delta\n",
    "        )\n",
    "        x.append(epsilon)\n",
    "        _, total_accuracy = test(model, test_loader)\n",
    "        y.append(total_accuracy)\n",
    "        if epsilon <= best_eps:\n",
    "            best_eps = epsilon\n",
    "            best_eps_ep = epoch\n",
    "        if best_acc <= total_accuracy:\n",
    "            best_acc = total_accuracy\n",
    "            best_acc_ep = epoch\n",
    "        if epoch==7:\n",
    "            print(total_accuracy, epsilon)\n",
    "    plt.plot(x, y, label=nm)\n",
    "plt.xlabel('epsilon')\n",
    "plt.ylabel('accuracy')\n",
    "plt.legend()\n",
    "plt.show()\n",
    "print('Best accuracy =', best_acc, 'at epoch', best_acc_ep, '\\nBest epsilon =', best_eps, 'at epoch', best_eps_ep)"
   ]
  },
  {
   "cell_type": "code",
   "execution_count": 13,
   "metadata": {},
   "outputs": [
    {
     "name": "stdout",
     "output_type": "stream",
     "text": [
      "0.8055 0.8057752058544934\n",
      "0.8295 0.8057752058544934\n",
      "0.834 0.8057752058544934\n",
      "0.8375 0.8057752058544934\n"
     ]
    },
    {
     "data": {
      "image/png": "[encoded data removed]",
      "text/plain": [
       "<Figure size 432x288 with 1 Axes>"
      ]
     },
     "metadata": {
      "needs_background": "light"
     },
     "output_type": "display_data"
    },
    {
     "name": "stdout",
     "output_type": "stream",
     "text": [
      "Best accuracy = 0.843 at epoch 10 \n",
      "Best epsilon = 0.4370271431009314 at epoch 1\n"
     ]
    }
   ],
   "source": [
    "# Test clip bounds\n",
    "best_eps = float('inf')\n",
    "best_eps_ep = 0\n",
    "best_acc = 0\n",
    "best_acc_ep = 0\n",
    "for cb in clip_bounds:\n",
    "    x = []\n",
    "    y = []\n",
    "    train_loader, test_loader = create_data_loaders(train_tensor, test_tensor, sample_rate)\n",
    "\n",
    "    for epoch in range(1,20):\n",
    "        model = LogisticRegression(input_dim)\n",
    "        epsilon, alpha = train(\n",
    "            model, train_loader, torch.optim.SGD, learning_rate, epoch, sample_rate,\n",
    "            noise_multiplier, cb, delta\n",
    "        )\n",
    "        x.append(epsilon)\n",
    "        _, total_accuracy = test(model, test_loader)\n",
    "        y.append(total_accuracy)\n",
    "        if epsilon <= best_eps:\n",
    "            best_eps = epsilon\n",
    "            best_eps_ep = epoch\n",
    "        if best_acc <= total_accuracy:\n",
    "            best_acc = total_accuracy\n",
    "            best_acc_ep = epoch\n",
    "        if epoch==4:\n",
    "            print(total_accuracy, epsilon)\n",
    "    plt.plot(x, y, label=cb)\n",
    "plt.xlabel('epsilon')\n",
    "plt.ylabel('accuracy')\n",
    "plt.legend()\n",
    "plt.show()\n",
    "print('Best accuracy =', best_acc, 'at epoch', best_acc_ep, '\\nBest epsilon =', best_eps, 'at epoch', best_eps_ep)"
   ]
  },
  {
   "cell_type": "code",
   "execution_count": 14,
   "metadata": {},
   "outputs": [
    {
     "name": "stdout",
     "output_type": "stream",
     "text": [
      "0.8415 0.6107489046871944\n",
      "0.829 1.1371093474900893\n",
      "0.777 2.310840667143923\n",
      "0.6145 3.4480118604326173\n"
     ]
    },
    {
     "data": {
      "image/png": "[encoded data removed]",
      "text/plain": [
       "<Figure size 432x288 with 1 Axes>"
      ]
     },
     "metadata": {
      "needs_background": "light"
     },
     "output_type": "display_data"
    },
    {
     "name": "stdout",
     "output_type": "stream",
     "text": [
      "Best accuracy = 0.843 at epoch 10 \n",
      "Best epsilon = 0.2571292377435178 at epoch 1\n"
     ]
    }
   ],
   "source": [
    "# Test sample rates\n",
    "best_eps = float('inf')\n",
    "best_eps_ep = 0\n",
    "best_acc = 0\n",
    "best_acc_ep = 0\n",
    "for sr in sample_rates:\n",
    "    x = []\n",
    "    y = []\n",
    "    train_loader, test_loader = create_data_loaders(train_tensor, test_tensor, sr)\n",
    "\n",
    "    for epoch in range(1,20):\n",
    "        model = LogisticRegression(input_dim)\n",
    "        epsilon, alpha = train(\n",
    "            model, train_loader, torch.optim.SGD, learning_rate, epoch, sr,\n",
    "            noise_multiplier, clip_bound, delta\n",
    "        )\n",
    "        x.append(epsilon)\n",
    "        _, total_accuracy = test(model, test_loader)\n",
    "        y.append(total_accuracy)\n",
    "        if epsilon <= best_eps:\n",
    "            best_eps = epsilon\n",
    "            best_eps_ep = epoch\n",
    "        if best_acc <= total_accuracy:\n",
    "            best_acc = total_accuracy\n",
    "            best_acc_ep = epoch\n",
    "        if epoch==8:\n",
    "            print(total_accuracy, epsilon)\n",
    "    plt.plot(x, y, label=sr)\n",
    "plt.xlabel('epsilon')\n",
    "plt.ylabel('accuracy')\n",
    "plt.legend()\n",
    "plt.show()\n",
    "print('Best accuracy =', best_acc, 'at epoch', best_acc_ep, '\\nBest epsilon =', best_eps, 'at epoch', best_eps_ep)"
   ]
  },
  {
   "cell_type": "markdown",
   "metadata": {},
   "source": [
    "**Conclusions**\n",
    "\n",
    "When changing learning rates, the first thing we can notice is that both $\\epsilon$ and accuracy get higher with a higher number of epochs (so this is good from an accuracy perspective and bad from a privacy perspective). With learning rate equals to 0.5 both accuracy and $\\epsilon$ are very good, but with such a high learning rate there's risk of overfitting. A good compromise could be learning rate equals to 0.1, since at epoch 4 accuracy is maximized (0.843) and the privacy is still good ($\\epsilon$ equals to 0.8).\n",
    "\n",
    "When changing noise multiplier, it is clear that more noise equals better privacy; it's surprising, though, that accuracy is still not that low even with more noise: a good compromise could be, in fact, noise multiplier equals to 2.6, when at epoch 7 accuracy is equal to 0.83 and $\\epsilon$ is equal to 0.8.\n",
    "\n",
    "When changing clip bounds, the results are similar to learning rates changing; a good compromise is at epoch 4 with clip bound equal to 2 (accuracy is equal to 0.84 and $\\epsilon$ is equal to 0.81).\n",
    "\n",
    "When changin the test sample rates, it is clear that wider test sample rates equal to less accuracy and less privacy. A good compromise is at epoch 8 with test sample rate equals to 0.01 ((accuracy is equal to 0.84 and $\\epsilon$ is equal to 0.61)."
   ]
  },
  {
   "cell_type": "markdown",
   "metadata": {},
   "source": [
    "#### Question II"
   ]
  },
  {
   "cell_type": "markdown",
   "metadata": {},
   "source": [
    "Note: since, as said, a large number of variables increases the noise DP-SGD has to add, I decided to drop some of them; to be more specific, i dropped:\n",
    "\n",
    "- `index`: there's already an index from pandas' dataframe\n",
    "- `workclass`: some of the values are missing\n",
    "- `education`: this column is redundant with `education-num`\n",
    "- `marital-status`: this column is not fully redundant with `relationship` but they express quite the same meaning\n",
    "\n",
    "Moreover, in order to use `income` as target I did not applied one-hot-encoding on it but I only changed the values in this way:\n",
    "\n",
    "- 0 equals to `income` <=50K\n",
    "- 1 equals to `income` >50K"
   ]
  },
  {
   "cell_type": "markdown",
   "metadata": {},
   "source": [
    "##### Dataset preparation"
   ]
  },
  {
   "cell_type": "code",
   "execution_count": 24,
   "metadata": {},
   "outputs": [],
   "source": [
    "import pandas as pd\n",
    "from catboost.datasets import adult\n",
    "\n",
    "# download Adult dataset and put all the data inside a single dataframe\n",
    "train_set, test_set = adult()\n",
    "data = train_set.append(test_set, ignore_index=False)\n",
    "data = data.reset_index()\n",
    "\n",
    "# prepare dataframe for usage\n",
    "del data['index']\n",
    "del data['workclass']\n",
    "del data['education']\n",
    "del data['marital-status']\n",
    "\n",
    "# one-hot-encoding\n",
    "occupation_ohe = pd.get_dummies(data.occupation, prefix='occupation')\n",
    "relationship_ohe = pd.get_dummies(data.relationship, prefix='relationship')\n",
    "race_ohe = pd.get_dummies(data.race, prefix='race')\n",
    "sex_ohe = pd.get_dummies(data.sex, prefix='sex')\n",
    "nativecountry_ohe = pd.get_dummies(data['native-country'], prefix='native_country')\n",
    "\n",
    "# finish it\n",
    "new = pd.concat([data, occupation_ohe, relationship_ohe, race_ohe, sex_ohe, nativecountry_ohe], axis=1)\n",
    "data = new\n",
    "del data['occupation']\n",
    "del data['relationship']\n",
    "del data['race']\n",
    "del data['sex']\n",
    "del data['native-country']\n",
    "data['income'] = data['income'].apply(lambda x: 0 if x=='<=50K' else 1)\n",
    "# now we have a dataframe, data, which contains all we need"
   ]
  },
  {
   "cell_type": "markdown",
   "metadata": {},
   "source": [
    "##### Preparatory code"
   ]
  },
  {
   "cell_type": "code",
   "execution_count": 38,
   "metadata": {},
   "outputs": [],
   "source": [
    "import numpy as np\n",
    "from sklearn.model_selection import train_test_split\n",
    "import torch\n",
    "import torch.nn as nn\n",
    "import torch.nn.functional as F\n",
    "import opacus\n",
    "from torch.utils.data import TensorDataset\n",
    "from torch.utils.data import DataLoader\n",
    "from opacus.utils.uniform_sampler import UniformWithReplacementSampler\n",
    "import warnings\n",
    "warnings.filterwarnings('ignore')\n",
    "\n",
    "def generate_tensors(train, test):\n",
    "    train_X = train[train.columns.difference(['income'])]\n",
    "    test_X = test[test.columns.difference(['income'])]\n",
    "    train_Y = train['income']\n",
    "    test_Y = test['income']\n",
    "\n",
    "    train_X = torch.from_numpy(train_X.values)\n",
    "    train_Y = torch.from_numpy(train_Y.values)\n",
    "    test_X = torch.from_numpy(test_X.values)\n",
    "    test_Y = torch.from_numpy(test_Y.values)\n",
    "\n",
    "    train_tensor = TensorDataset(torch.tensor(train_X), torch.tensor(train_Y, dtype=torch.float32))\n",
    "    test_tensor = TensorDataset(torch.tensor(test_X), torch.tensor(test_Y, dtype=torch.float32))\n",
    "    return train_tensor, test_tensor\n",
    "\n",
    "class LogisticRegression(nn.Module):\n",
    "    def __init__(self, dim, bias=True):\n",
    "        super().__init__()\n",
    "        self.dim = dim\n",
    "        self.linear = nn.Linear(dim, 1, bias=bias)\n",
    "        self.loss = nn.BCEWithLogitsLoss(reduction=\"sum\")\n",
    "\n",
    "    def forward(self, x):\n",
    "        return self.linear(x.float()).view(-1)\n",
    "\n",
    "    def train_step(self, batch):\n",
    "        x, y = batch\n",
    "        out = self(x)\n",
    "        loss = self.loss(out, y)\n",
    "        return loss\n",
    "\n",
    "    def test_step(self, batch):\n",
    "        x, y = batch\n",
    "        out = self(x)\n",
    "        loss = self.loss(out, y)\n",
    "        preds = out > 0 # Predict y = 1 if P(y = 1) > 0.5\n",
    "        corrects = torch.tensor(torch.sum(preds == y).item())\n",
    "        return loss, corrects\n",
    "\n",
    "def train(model, train_loader, opt_func, learning_rate, num_epochs, sample_rate, noise_multiplier, clip_bound, delta, random_seed=474237, verbose=False):\n",
    "    optimizer = opt_func(model.parameters(), learning_rate)\n",
    "    privacy_engine = opacus.PrivacyEngine(\n",
    "        model,\n",
    "        sample_rate=sample_rate,\n",
    "        alphas=[1 + x / 10.0 for x in range(1, 100)] + list(range(12, 200)),\n",
    "        noise_multiplier=noise_multiplier,\n",
    "        max_grad_norm=clip_bound,\n",
    "        secure_rng=False, # Should set to True for production use\n",
    "    )\n",
    "    privacy_engine._set_seed(random_seed) # Fix randomness, will throw an error with secure_rng=True\n",
    "    privacy_engine.attach(optimizer)\n",
    "\n",
    "    for epoch in range(num_epochs):\n",
    "        losses = []\n",
    "        for batch in train_loader:\n",
    "            loss = model.train_step(batch)\n",
    "            loss.backward()\n",
    "            losses.append(loss)\n",
    "            optimizer.step()\n",
    "            optimizer.zero_grad()\n",
    "        \n",
    "        if verbose:\n",
    "            print(\"Epoch {}, loss = {}\".format(epoch + 1, torch.sum(loss) / len(train_loader)))\n",
    "\n",
    "    epsilon, alpha = optimizer.privacy_engine.get_privacy_spent(delta)\n",
    "    return epsilon, alpha\n",
    "\n",
    "def test(model, test_loader):\n",
    "    with torch.no_grad():\n",
    "        losses = []\n",
    "        accuracies = []\n",
    "        total_size = 0\n",
    "        for batch in test_loader:\n",
    "            total_size += len(batch[1])\n",
    "            loss, corrects = model.test_step(batch)\n",
    "            losses.append(loss)\n",
    "            accuracies.append(corrects)\n",
    "\n",
    "        average_loss = np.array(loss).sum() / total_size\n",
    "        total_accuracy = np.array(accuracies).sum() / total_size\n",
    "        return average_loss, total_accuracy"
   ]
  },
  {
   "cell_type": "markdown",
   "metadata": {},
   "source": [
    "##### Actual code"
   ]
  },
  {
   "cell_type": "code",
   "execution_count": 65,
   "metadata": {},
   "outputs": [
    {
     "name": "stdout",
     "output_type": "stream",
     "text": [
      "Epsilon: 0.9052277499557281, Delta: 1e-05, Alpha: 18.0\n",
      "Loss: 0.3664154168319429, Accuracy: 0.7649708260825059\n"
     ]
    }
   ],
   "source": [
    "train_set, test_set = train_test_split(data, test_size=0.2) # split into train and test\n",
    "torch.manual_seed(472368)\n",
    "train_tensor, test_tensor = generate_tensors(train_set, test_set)\n",
    "input_dim = train_tensor[0][0].size(dim=0)\n",
    "\n",
    "delta = 1e-5\n",
    "\n",
    "learning_rate = 0.01\n",
    "noise_multiplier = 2\n",
    "clip_bound = 1\n",
    "sample_rate = 0.02\n",
    "num_epochs = 8\n",
    "    \n",
    "train_loader, test_loader = create_data_loaders(train_tensor, test_tensor, sample_rate)\n",
    "\n",
    "model = LogisticRegression(input_dim)\n",
    "epsilon, alpha = train(model, train_loader, torch.optim.SGD, learning_rate, num_epochs, sample_rate, noise_multiplier, clip_bound, delta)\n",
    "print(\"Epsilon: {}, Delta: {}, Alpha: {}\".format(epsilon, delta, alpha))\n",
    "average_loss, total_accuracy = test(model, test_loader)\n",
    "print(\"Loss: {}, Accuracy: {}\".format(average_loss, total_accuracy))"
   ]
  },
  {
   "cell_type": "markdown",
   "metadata": {},
   "source": [
    "**Conclusions**\n",
    "\n",
    "I was able to get a good accuracy score (0.76) with $\\epsilon$ < 1 (0.91) and $\\delta = 10^{-5}$ using the following hyperparameters:\n",
    "\n",
    "- `learning_rate` = 0.01\n",
    "- `noise_multiplier` = 2\n",
    "- `clip_bound` = 1\n",
    "- `sample_rate` = 0.02\n",
    "- `num_epochs` = 8"
   ]
  },
  {
   "cell_type": "markdown",
   "metadata": {
    "tags": []
   },
   "source": [
    "## Task 2: DP Image Classification\n",
    "\n",
    "Using the above code as a basis, build a DP image classifier for the MNIST dataset. The dataset consists of 28x28 images of handwritten digits (0-9), and the task is to classify which digit each image represents. \n",
    "\n",
    "A simple implementation of a convolutional neural network for image classification is available (https://www.cs.helsinki.fi/u/oraisa/tml/pytorch_mnist.py), based on the Opacus MNIST tutorial. The example requires the Torchvision (https://pytorch.org/vision/stable/index.html) library, which you should install. The example contains the `SampleConvNet` class that can be used with the `train` and `test` functions from the last exercise, as well as the `get_mnist_dataset` function that loads the MNIST dataset. The dataset is downloaded the first time the function is called and is placed in a directory called `mnist`. By default, the function only loads half of the training data (30 000 images) to save computation time, but the number of training images can be given as a parameter.\n",
    "\n",
    "i. Train the model using the hyperparameters given below and compute accuracy on test data.\n",
    "```{python}\n",
    "clip_bound = 1.5\n",
    "learning_rate = 0.25\n",
    "sample_rate = 0.004\n",
    "noise_multiplier = 1.3\n",
    "num_epochs = 5\n",
    "```\n",
    "The training may take a minute or two. You can pass `verbose=True` to the `train` function to get updates for every completed epoch.\n",
    "You should get $\\epsilon \\approx 0.62$ with $\\delta = 10^{-5}$ and an accuracy of 80-90%.\n",
    "\n",
    "ii. Test the impact of the different DP parameters with the aim of creating maximally accurate classifier, given privacy bounds $\\epsilon = 1$, $\\delta = 10^{-5}$. You can also try changing the optimiser.\n",
    "\n",
    "Note: Running the learning with many parameters can take a long time, so you should plan your work to keep the number of runs reasonable. The grading of part ii is based on obtaining an overall picture of the impact of key parameters, not the absolute accuracy obtained."
   ]
  },
  {
   "cell_type": "markdown",
   "metadata": {},
   "source": [
    "### Answer"
   ]
  },
  {
   "cell_type": "markdown",
   "metadata": {},
   "source": [
    "#### Question I"
   ]
  },
  {
   "cell_type": "markdown",
   "metadata": {},
   "source": [
    "##### Preparatory code"
   ]
  },
  {
   "cell_type": "code",
   "execution_count": null,
   "metadata": {},
   "outputs": [],
   "source": [
    "import sys\n",
    "!{sys.executable} -m pip install torchvision"
   ]
  },
  {
   "cell_type": "code",
   "execution_count": 19,
   "metadata": {},
   "outputs": [],
   "source": [
    "from torchvision import datasets, transforms\n",
    "import torch\n",
    "import torch.nn as nn\n",
    "from torch.utils.data import DataLoader, TensorDataset\n",
    "import torch.nn.functional as F\n",
    "\n",
    "class SampleConvNet(nn.Module):\n",
    "    def __init__(self):\n",
    "        super().__init__()\n",
    "        self.conv1 = nn.Conv2d(1, 16, 8, 2, padding=3)\n",
    "        self.conv2 = nn.Conv2d(16, 32, 4, 2)\n",
    "        self.fc1 = nn.Linear(32 * 4 * 4, 32)\n",
    "        self.fc2 = nn.Linear(32, 10)\n",
    "        self.loss = nn.CrossEntropyLoss()\n",
    "\n",
    "    def forward(self, x):\n",
    "        x = F.relu(self.conv1(x)) \n",
    "        x = F.max_pool2d(x, 2, 1)\n",
    "        x = F.relu(self.conv2(x))\n",
    "        x = F.max_pool2d(x, 2, 1)\n",
    "        x = x.view(-1, 32 * 4 * 4)\n",
    "        x = F.relu(self.fc1(x))\n",
    "        x = self.fc2(x)\n",
    "        return x\n",
    "    \n",
    "    def train_step(self, batch):\n",
    "        x, y = batch\n",
    "        out = self(x)\n",
    "        loss = self.loss(out, y)\n",
    "        return loss\n",
    "\n",
    "    def test_step(self, batch):\n",
    "        x, y = batch\n",
    "        out = self(x)\n",
    "        loss = self.loss(out, y)\n",
    "        pred = out.argmax(dim=1, keepdim=True)\n",
    "        corrects = pred.eq(y.view_as(pred)).sum().item()\n",
    "        return loss, corrects\n",
    "    \n",
    "def get_mnist_dataset(train_size=30000):\n",
    "    MNIST_MEAN = 0.1307\n",
    "    MNIST_STD = 0.3081\n",
    "    \n",
    "    train_full_dataset = datasets.MNIST(\n",
    "        \"mnist\",\n",
    "        train=True,\n",
    "        download=True,\n",
    "        transform=transforms.Compose(\n",
    "            [\n",
    "                transforms.ToTensor(),\n",
    "                transforms.Normalize((MNIST_MEAN,), (MNIST_STD,)),\n",
    "            ]\n",
    "        ),\n",
    "    )\n",
    "    train_subsample_loader = DataLoader(\n",
    "        train_full_dataset, train_size,\n",
    "        generator=torch.Generator().manual_seed(123456789)\n",
    "    )\n",
    "    train_subsample = train_subsample_loader.__iter__().__next__()\n",
    "    train_dataset = TensorDataset(train_subsample[0], train_subsample[1])\n",
    "\n",
    "    test_dataset = datasets.MNIST(\n",
    "        \"mnist\",\n",
    "        train=False,\n",
    "        transform=transforms.Compose(\n",
    "            [\n",
    "                transforms.ToTensor(),\n",
    "                transforms.Normalize((MNIST_MEAN,), (MNIST_STD,)),\n",
    "            ]\n",
    "        ),\n",
    "    )\n",
    "\n",
    "    return train_dataset, test_dataset\n",
    "\n",
    "def create_data_loaders(train_tensor, test_tensor, sample_rate, random_seed=4732842):\n",
    "    train_loader = DataLoader(\n",
    "        train_tensor,\n",
    "        batch_sampler=UniformWithReplacementSampler(\n",
    "            num_samples=len(train_tensor),\n",
    "            sample_rate=sample_rate,\n",
    "            generator=torch.Generator().manual_seed(random_seed), # Should use a cryptographically secure PRNG in production\n",
    "        ),\n",
    "    )\n",
    "    test_loader = DataLoader(test_tensor, 64)\n",
    "    return train_loader, test_loader\n",
    "\n",
    "def train(model, train_loader, opt_func, learning_rate, num_epochs, sample_rate, noise_multiplier, clip_bound, delta, random_seed=474237, verbose=False):\n",
    "    optimizer = opt_func(model.parameters(), learning_rate)\n",
    "    privacy_engine = opacus.PrivacyEngine(\n",
    "        model,\n",
    "        sample_rate=sample_rate,\n",
    "        alphas=[1 + x / 10.0 for x in range(1, 100)] + list(range(12, 200)),\n",
    "        noise_multiplier=noise_multiplier,\n",
    "        max_grad_norm=clip_bound,\n",
    "        secure_rng=False,\n",
    "    )\n",
    "    privacy_engine._set_seed(random_seed)\n",
    "    privacy_engine.attach(optimizer)\n",
    "\n",
    "    for epoch in range(num_epochs):\n",
    "        losses = []\n",
    "        for batch in train_loader:\n",
    "            loss = model.train_step(batch)\n",
    "            loss.backward()\n",
    "            losses.append(loss)\n",
    "            optimizer.step()\n",
    "            optimizer.zero_grad()\n",
    "        \n",
    "        if verbose:\n",
    "            print(\"Epoch {}, loss = {}\".format(epoch + 1, torch.sum(loss) / len(train_loader)))\n",
    "\n",
    "    epsilon, alpha = optimizer.privacy_engine.get_privacy_spent(delta)\n",
    "    return epsilon, alpha\n",
    "\n",
    "def test(model, test_loader):\n",
    "    with torch.no_grad():\n",
    "        losses = []\n",
    "        accuracies = []\n",
    "        total_size = 0\n",
    "        for batch in test_loader:\n",
    "            total_size += len(batch[1])\n",
    "            loss, corrects = model.test_step(batch)\n",
    "            losses.append(loss)\n",
    "            accuracies.append(corrects)\n",
    "\n",
    "        average_loss = np.array(loss).sum() / total_size\n",
    "        total_accuracy = np.array(accuracies).sum() / total_size\n",
    "        return average_loss, total_accuracy\n"
   ]
  },
  {
   "cell_type": "markdown",
   "metadata": {},
   "source": [
    "##### Actual code"
   ]
  },
  {
   "cell_type": "code",
   "execution_count": 20,
   "metadata": {},
   "outputs": [
    {
     "name": "stdout",
     "output_type": "stream",
     "text": [
      "Epsilon: 0.6188836247099821, Delta: 1e-05, Alpha: 18.0\n",
      "Loss: 5.521870255470276e-05, Accuracy: 0.8774\n"
     ]
    }
   ],
   "source": [
    "torch.manual_seed(54356)\n",
    "\n",
    "train_tensor, test_tensor = get_mnist_dataset()\n",
    "input_dim = train_tensor[0][0].size(dim=0)\n",
    "delta = 1e-5\n",
    "\n",
    "clip_bound = 1.5\n",
    "learning_rate = 0.25\n",
    "sample_rate = 0.004\n",
    "noise_multiplier = 1.3\n",
    "num_epochs = 5\n",
    "\n",
    "train_loader, test_loader = create_data_loaders(train_tensor, test_tensor, sample_rate)\n",
    "\n",
    "model = SampleConvNet()\n",
    "epsilon, alpha = train(\n",
    "    model, train_loader, torch.optim.SGD, learning_rate, num_epochs, sample_rate,\n",
    "    noise_multiplier, clip_bound, delta\n",
    ")\n",
    "print(\"Epsilon: {}, Delta: {}, Alpha: {}\".format(epsilon, delta, alpha))\n",
    "average_loss, total_accuracy = test(model, test_loader)\n",
    "print(\"Loss: {}, Accuracy: {}\".format(average_loss, total_accuracy))"
   ]
  },
  {
   "cell_type": "markdown",
   "metadata": {},
   "source": [
    "#### Question II"
   ]
  },
  {
   "cell_type": "markdown",
   "metadata": {},
   "source": [
    "I tested $\\epsilon$ and accuracy on different parameters:\n",
    "\n",
    "- learning_rate = [0.01, 0.05, 0.1, 0.25, 0.5]\n",
    "- noise_multiplier = [1, 1.3, 1.5, 2, 2.5]\n",
    "- clip_bound = [0.5, 1, 1.5, 2, 2.5]\n",
    "- sample_rate = [0.04, 0.01, 0.05, 0.1, 0.2]\n",
    "\n",
    "Then, I created a plot for each hyperparameter, relating accuracy score and $\\epsilon$ on the number of epochs, with `epochs` between 1 and 10.\n",
    "\n",
    "Finally, I tweaked the hyperparameter in order to get a higher accuracy with the same privacy assumptions."
   ]
  },
  {
   "cell_type": "markdown",
   "metadata": {},
   "source": [
    "##### Preparatory code"
   ]
  },
  {
   "cell_type": "code",
   "execution_count": 21,
   "metadata": {},
   "outputs": [],
   "source": [
    "from torchvision import datasets, transforms\n",
    "import torch\n",
    "import torch.nn as nn\n",
    "from torch.utils.data import DataLoader, TensorDataset\n",
    "import torch.nn.functional as F\n",
    "\n",
    "class SampleConvNet(nn.Module):\n",
    "    def __init__(self):\n",
    "        super().__init__()\n",
    "        self.conv1 = nn.Conv2d(1, 16, 8, 2, padding=3)\n",
    "        self.conv2 = nn.Conv2d(16, 32, 4, 2)\n",
    "        self.fc1 = nn.Linear(32 * 4 * 4, 32)\n",
    "        self.fc2 = nn.Linear(32, 10)\n",
    "        self.loss = nn.CrossEntropyLoss()\n",
    "\n",
    "    def forward(self, x):\n",
    "        x = F.relu(self.conv1(x)) \n",
    "        x = F.max_pool2d(x, 2, 1)\n",
    "        x = F.relu(self.conv2(x))\n",
    "        x = F.max_pool2d(x, 2, 1)\n",
    "        x = x.view(-1, 32 * 4 * 4)\n",
    "        x = F.relu(self.fc1(x))\n",
    "        x = self.fc2(x)\n",
    "        return x\n",
    "    \n",
    "    def train_step(self, batch):\n",
    "        x, y = batch\n",
    "        out = self(x)\n",
    "        loss = self.loss(out, y)\n",
    "        return loss\n",
    "\n",
    "    def test_step(self, batch):\n",
    "        x, y = batch\n",
    "        out = self(x)\n",
    "        loss = self.loss(out, y)\n",
    "        pred = out.argmax(dim=1, keepdim=True)\n",
    "        corrects = pred.eq(y.view_as(pred)).sum().item()\n",
    "        return loss, corrects\n",
    "    \n",
    "def get_mnist_dataset(train_size=30000):\n",
    "    MNIST_MEAN = 0.1307\n",
    "    MNIST_STD = 0.3081\n",
    "    \n",
    "    train_full_dataset = datasets.MNIST(\n",
    "        \"mnist\",\n",
    "        train=True,\n",
    "        download=True,\n",
    "        transform=transforms.Compose(\n",
    "            [\n",
    "                transforms.ToTensor(),\n",
    "                transforms.Normalize((MNIST_MEAN,), (MNIST_STD,)),\n",
    "            ]\n",
    "        ),\n",
    "    )\n",
    "    train_subsample_loader = DataLoader(\n",
    "        train_full_dataset, train_size,\n",
    "        generator=torch.Generator().manual_seed(123456789)\n",
    "    )\n",
    "    train_subsample = train_subsample_loader.__iter__().__next__()\n",
    "    train_dataset = TensorDataset(train_subsample[0], train_subsample[1])\n",
    "\n",
    "    test_dataset = datasets.MNIST(\n",
    "        \"mnist\",\n",
    "        train=False,\n",
    "        transform=transforms.Compose(\n",
    "            [\n",
    "                transforms.ToTensor(),\n",
    "                transforms.Normalize((MNIST_MEAN,), (MNIST_STD,)),\n",
    "            ]\n",
    "        ),\n",
    "    )\n",
    "\n",
    "    return train_dataset, test_dataset\n",
    "\n",
    "def create_data_loaders(train_tensor, test_tensor, sample_rate, random_seed=4732842):\n",
    "    train_loader = DataLoader(\n",
    "        train_tensor,\n",
    "        batch_sampler=UniformWithReplacementSampler(\n",
    "            num_samples=len(train_tensor),\n",
    "            sample_rate=sample_rate,\n",
    "            generator=torch.Generator().manual_seed(random_seed), # Should use a cryptographically secure PRNG in production\n",
    "        ),\n",
    "    )\n",
    "    test_loader = DataLoader(test_tensor, 64)\n",
    "    return train_loader, test_loader\n",
    "\n",
    "def train(model, train_loader, opt_func, learning_rate, num_epochs, sample_rate, noise_multiplier, clip_bound, delta, random_seed=474237, verbose=False):\n",
    "    optimizer = opt_func(model.parameters(), learning_rate)\n",
    "    privacy_engine = opacus.PrivacyEngine(\n",
    "        model,\n",
    "        sample_rate=sample_rate,\n",
    "        alphas=[1 + x / 10.0 for x in range(1, 100)] + list(range(12, 200)),\n",
    "        noise_multiplier=noise_multiplier,\n",
    "        max_grad_norm=clip_bound,\n",
    "        secure_rng=False,\n",
    "    )\n",
    "    privacy_engine._set_seed(random_seed)\n",
    "    privacy_engine.attach(optimizer)\n",
    "\n",
    "    for epoch in range(num_epochs):\n",
    "        losses = []\n",
    "        for batch in train_loader:\n",
    "            loss = model.train_step(batch)\n",
    "            loss.backward()\n",
    "            losses.append(loss)\n",
    "            optimizer.step()\n",
    "            optimizer.zero_grad()\n",
    "        \n",
    "        if verbose:\n",
    "            print(\"Epoch {}, loss = {}\".format(epoch + 1, torch.sum(loss) / len(train_loader)))\n",
    "\n",
    "    epsilon, alpha = optimizer.privacy_engine.get_privacy_spent(delta)\n",
    "    return epsilon, alpha\n",
    "\n",
    "def test(model, test_loader):\n",
    "    with torch.no_grad():\n",
    "        losses = []\n",
    "        accuracies = []\n",
    "        total_size = 0\n",
    "        for batch in test_loader:\n",
    "            total_size += len(batch[1])\n",
    "            loss, corrects = model.test_step(batch)\n",
    "            losses.append(loss)\n",
    "            accuracies.append(corrects)\n",
    "\n",
    "        average_loss = np.array(loss).sum() / total_size\n",
    "        total_accuracy = np.array(accuracies).sum() / total_size\n",
    "        return average_loss, total_accuracy\n",
    "\n",
    "torch.manual_seed(54356)\n",
    "\n",
    "train_tensor, test_tensor = get_mnist_dataset()\n",
    "input_dim = train_tensor[0][0].size(dim=0)\n",
    "delta = 1e-5\n",
    "\n",
    "# stock hyperparameters\n",
    "clip_bound = 1.5\n",
    "learning_rate = 0.25\n",
    "sample_rate = 0.004\n",
    "noise_multiplier = 1.3\n",
    "num_epochs = 5\n",
    "\n",
    "# experiments\n",
    "learning_rates = [0.01, 0.05, 0.1, 0.25, 0.5]\n",
    "noise_multipliers = [1, 1.3, 1.5, 2, 2.5]\n",
    "clip_bounds = [0.5, 1, 1.5, 2, 2.5]\n",
    "sample_rates = [0.04, 0.01, 0.05, 0.1, 0.2]"
   ]
  },
  {
   "cell_type": "markdown",
   "metadata": {},
   "source": [
    "##### Actual code"
   ]
  },
  {
   "cell_type": "code",
   "execution_count": 23,
   "metadata": {},
   "outputs": [
    {
     "data": {
      "image/png": "[encoded data removed]",
      "text/plain": [
       "<Figure size 432x288 with 1 Axes>"
      ]
     },
     "metadata": {
      "needs_background": "light"
     },
     "output_type": "display_data"
    },
    {
     "name": "stdout",
     "output_type": "stream",
     "text": [
      "Best accuracy = 0.9267 at epoch 2 \n",
      "Best epsilon = 0.6188836247099821 at epoch 9\n"
     ]
    }
   ],
   "source": [
    "# test learning rates\n",
    "best_eps = float('inf')\n",
    "best_eps_ep = 0\n",
    "best_acc = 0\n",
    "best_acc_ep = 0\n",
    "for lr in learning_rates:\n",
    "    x = []\n",
    "    y = []\n",
    "    train_loader, test_loader = create_data_loaders(train_tensor, test_tensor, sample_rate)\n",
    "    for epoch in range(1,10):\n",
    "        model = SampleConvNet()\n",
    "        epsilon, alpha = train(\n",
    "            model, train_loader, torch.optim.SGD, lr, num_epochs, sample_rate,\n",
    "            noise_multiplier, clip_bound, delta\n",
    "        )\n",
    "        x.append(epsilon)\n",
    "        _, total_accuracy = test(model, test_loader)\n",
    "        y.append(total_accuracy)\n",
    "        if epsilon <= best_eps:\n",
    "            best_eps = epsilon\n",
    "            best_eps_ep = epoch\n",
    "        if best_acc <= total_accuracy:\n",
    "            best_acc = total_accuracy\n",
    "            best_acc_ep = epoch\n",
    "    plt.plot(x, y, label=lr)\n",
    "plt.xlabel('epsilon')\n",
    "plt.ylabel('accuracy')\n",
    "plt.legend()\n",
    "plt.show()\n",
    "print('Best accuracy =', best_acc, 'at epoch', best_acc_ep, '\\nBest epsilon =', best_eps, 'at epoch', best_eps_ep)"
   ]
  },
  {
   "cell_type": "code",
   "execution_count": 24,
   "metadata": {},
   "outputs": [
    {
     "data": {
      "image/png": "[encoded data removed]",
      "text/plain": [
       "<Figure size 432x288 with 1 Axes>"
      ]
     },
     "metadata": {
      "needs_background": "light"
     },
     "output_type": "display_data"
    },
    {
     "name": "stdout",
     "output_type": "stream",
     "text": [
      "Best accuracy = 0.9261 at epoch 4 \n",
      "Best epsilon = 0.21737942621110795 at epoch 9\n"
     ]
    }
   ],
   "source": [
    "# test noise multiplier\n",
    "best_eps = float('inf')\n",
    "best_eps_ep = 0\n",
    "best_acc = 0\n",
    "best_acc_ep = 0\n",
    "for nm in noise_multipliers:\n",
    "    x = []\n",
    "    y = []\n",
    "    train_loader, test_loader = create_data_loaders(train_tensor, test_tensor, sample_rate)\n",
    "    for epoch in range(1,10):\n",
    "        model = SampleConvNet()\n",
    "        epsilon, alpha = train(\n",
    "            model, train_loader, torch.optim.SGD, learning_rate, num_epochs, sample_rate,\n",
    "            nm, clip_bound, delta\n",
    "        )\n",
    "        x.append(epsilon)\n",
    "        _, total_accuracy = test(model, test_loader)\n",
    "        y.append(total_accuracy)\n",
    "        if epsilon <= best_eps:\n",
    "            best_eps = epsilon\n",
    "            best_eps_ep = epoch\n",
    "        if best_acc <= total_accuracy:\n",
    "            best_acc = total_accuracy\n",
    "            best_acc_ep = epoch\n",
    "    plt.plot(x, y, label=nm)\n",
    "plt.xlabel('epsilon')\n",
    "plt.ylabel('accuracy')\n",
    "plt.legend()\n",
    "plt.show()\n",
    "print('Best accuracy =', best_acc, 'at epoch', best_acc_ep, '\\nBest epsilon =', best_eps, 'at epoch', best_eps_ep)"
   ]
  },
  {
   "cell_type": "code",
   "execution_count": 25,
   "metadata": {},
   "outputs": [
    {
     "data": {
      "image/png": "[encoded data removed]",
      "text/plain": [
       "<Figure size 432x288 with 1 Axes>"
      ]
     },
     "metadata": {
      "needs_background": "light"
     },
     "output_type": "display_data"
    },
    {
     "name": "stdout",
     "output_type": "stream",
     "text": [
      "Best accuracy = 0.9217 at epoch 4 \n",
      "Best epsilon = 0.6188836247099821 at epoch 9\n"
     ]
    }
   ],
   "source": [
    "# test clip bounds\n",
    "best_eps = float('inf')\n",
    "best_eps_ep = 0\n",
    "best_acc = 0\n",
    "best_acc_ep = 0\n",
    "for cb in clip_bounds:\n",
    "    x = []\n",
    "    y = []\n",
    "    train_loader, test_loader = create_data_loaders(train_tensor, test_tensor, sample_rate)\n",
    "    for epoch in range(1,10):\n",
    "        model = SampleConvNet()\n",
    "        epsilon, alpha = train(\n",
    "            model, train_loader, torch.optim.SGD, learning_rate, num_epochs, sample_rate,\n",
    "            noise_multiplier, cb, delta\n",
    "        )\n",
    "        x.append(epsilon)\n",
    "        _, total_accuracy = test(model, test_loader)\n",
    "        y.append(total_accuracy)\n",
    "        if epsilon <= best_eps:\n",
    "            best_eps = epsilon\n",
    "            best_eps_ep = epoch\n",
    "        if best_acc <= total_accuracy:\n",
    "            best_acc = total_accuracy\n",
    "            best_acc_ep = epoch\n",
    "    plt.plot(x, y, label=cb)\n",
    "plt.xlabel('epsilon')\n",
    "plt.ylabel('accuracy')\n",
    "plt.legend()\n",
    "plt.show()\n",
    "print('Best accuracy =', best_acc, 'at epoch', best_acc_ep, '\\nBest epsilon =', best_eps, 'at epoch', best_eps_ep)"
   ]
  },
  {
   "cell_type": "code",
   "execution_count": 26,
   "metadata": {},
   "outputs": [
    {
     "data": {
      "image/png": "[encoded data removed]",
      "text/plain": [
       "<Figure size 432x288 with 1 Axes>"
      ]
     },
     "metadata": {
      "needs_background": "light"
     },
     "output_type": "display_data"
    },
    {
     "name": "stdout",
     "output_type": "stream",
     "text": [
      "Best accuracy = 0.9206 at epoch 1 \n",
      "Best epsilon = 0.9368228467889199 at epoch 9\n"
     ]
    }
   ],
   "source": [
    "# test sample rates\n",
    "best_eps = float('inf')\n",
    "best_eps_ep = 0\n",
    "best_acc = 0\n",
    "best_acc_ep = 0\n",
    "for sr in sample_rates:\n",
    "    x = []\n",
    "    y = []\n",
    "    train_loader, test_loader = create_data_loaders(train_tensor, test_tensor, sr)\n",
    "    for epoch in range(1,10):\n",
    "        model = SampleConvNet()\n",
    "        epsilon, alpha = train(\n",
    "            model, train_loader, torch.optim.SGD, learning_rate, num_epochs, sr,\n",
    "            noise_multiplier, clip_bound, delta\n",
    "        )\n",
    "        x.append(epsilon)\n",
    "        _, total_accuracy = test(model, test_loader)\n",
    "        y.append(total_accuracy)\n",
    "        if epsilon <= best_eps:\n",
    "            best_eps = epsilon\n",
    "            best_eps_ep = epoch\n",
    "        if best_acc <= total_accuracy:\n",
    "            best_acc = total_accuracy\n",
    "            best_acc_ep = epoch\n",
    "    plt.plot(x, y, label=sr)\n",
    "plt.xlabel('epsilon')\n",
    "plt.ylabel('accuracy')\n",
    "plt.legend()\n",
    "plt.show()\n",
    "print('Best accuracy =', best_acc, 'at epoch', best_acc_ep, '\\nBest epsilon =', best_eps, 'at epoch', best_eps_ep)"
   ]
  },
  {
   "cell_type": "code",
   "execution_count": 31,
   "metadata": {},
   "outputs": [
    {
     "name": "stdout",
     "output_type": "stream",
     "text": [
      "At epoch 1 epsilon = 0.4838172271441112 accuracy = 0.7029\n",
      "At epoch 2 epsilon = 0.5175838265355789 accuracy = 0.8755\n",
      "At epoch 3 epsilon = 0.5513504259270466 accuracy = 0.8767\n",
      "At epoch 4 epsilon = 0.5851170253185144 accuracy = 0.8972\n",
      "At epoch 5 epsilon = 0.6188836247099821 accuracy = 0.9112\n",
      "At epoch 6 epsilon = 0.6526502241014499 accuracy = 0.927\n",
      "At epoch 7 epsilon = 0.6864168234929177 accuracy = 0.9042\n",
      "At epoch 8 epsilon = 0.7166262161561463 accuracy = 0.9234\n",
      "At epoch 9 epsilon = 0.7459723199580783 accuracy = 0.9118\n",
      "At epoch 10 epsilon = 0.7753184237600104 accuracy = 0.9216\n"
     ]
    }
   ],
   "source": [
    "# final experiment\n",
    "\n",
    "torch.manual_seed(54356)\n",
    "\n",
    "train_tensor, test_tensor = get_mnist_dataset()\n",
    "input_dim = train_tensor[0][0].size(dim=0)\n",
    "delta = 1e-5\n",
    "\n",
    "clip_bound = 1.5\n",
    "learning_rate = 0.1\n",
    "sample_rate = 0.004\n",
    "noise_multiplier = 1.3\n",
    "\n",
    "train_loader, test_loader = create_data_loaders(train_tensor, test_tensor, sample_rate)\n",
    "\n",
    "for epoch in range(1,11):\n",
    "    model = SampleConvNet()\n",
    "    epsilon, alpha = train(\n",
    "        model, train_loader, torch.optim.SGD, learning_rate, epoch, sample_rate,\n",
    "        noise_multiplier, clip_bound, delta\n",
    "    )\n",
    "    _, total_accuracy = test(model, test_loader)\n",
    "    print('At epoch', epoch, 'epsilon =', epsilon, 'accuracy =', total_accuracy)"
   ]
  },
  {
   "cell_type": "markdown",
   "metadata": {},
   "source": [
    "## Task 3: Your own problem in privacy-preserving machine learning\n",
    "\n",
    "State and solve your own problem related to privacy-preserving machine learning.\n",
    "\n",
    "You can use code available online, as long as you cite the source.\n",
    "\n",
    "You can for example try reproducing the results of some interesting paper using their data or your own data, try out some of the privacy attacks, or simply try the above examples using more complex models and/or on different data sets.\n",
    "\n",
    "If your problem is based on some previous problem, it should extend it in a non-trivial manner (not just running exact same code with new parameters or data).\n",
    "\n",
    "The evaluation of the project will take the difficulty of your chosen problem into account.\n",
    "\n",
    "This task is worth as much as two regular problems."
   ]
  },
  {
   "cell_type": "markdown",
   "metadata": {},
   "source": [
    "### Answer"
   ]
  },
  {
   "cell_type": "markdown",
   "metadata": {},
   "source": [
    "#### Purpose of the project\n",
    "For this task I decided to re-implement a classifier for malignant skin cancer, written by Ruchita Suranagi and published at [this link](https://github.com/RuchitaSuranagi/Skin-Cancer-Classifier/blob/main/Malignant_vs_Benign_DP_Opacus_Skin_Cancer_Classification.ipynb). My idea was to try to achieve a better accuracy and/or better privacy guarantees: in fact, Ruchita was able to achieve an overall good accuracy ($0.803$), but with very bad privacy guarantees ($\\epsilon = 47.58$ with $\\delta = 10^{-5}$), and I wanted mostly to see if I was able to achieve a stronger privacy without loosing (too much) accuracy, and/or if I was able to find a possible error that made the $\\epsilon$ so high.\n",
    "\n",
    "#### Brief overview on the original problem\n",
    "The problem analyzed in this task is to train a neural network that allows to recognize a skin cancer; to be more precise, the task is to discriminate between malignant and benign skin cancer. The dataset used is [Skin Cancer: Malignant or Benign](https://www.kaggle.com/fanconic/skin-cancer-malignant-vs-benign); this dataset contains two folders, both containing 1800 pictures `224x244` of the two types of moles (benign and malignant). The dataset is divided into two more folders, one for training and one for testing.\n",
    "In order to ensure privacy for the \"owners of the skin cancer\", _i.e._ to prevent unintended memorization, the models are trained using differential privacy with $\\delta = 10^{-5}$ with the `opacus` library.\n",
    "\n",
    "#### Execution\n",
    "First of all, I copied most part of the code (the useful parts, so without the in-work visualizations) and I refactored it in a way that it would be easy for me to starts from. The most useful (and in-scope) refactor I did was to parametrize the different parts of the code I could modify, in order to modify them faster. Then I modified the way the dataset is loaded, in order to have platform-independent data (the code automatically downloads and unzips the dataset in the right folder).\n",
    "\n",
    "The first thing I tried was to tweak the usual hyperparameters; I tried different values, that were:\n",
    "\n",
    "- NOISE_MULTIPLIER, _i.e._ the noise multiplier = [0.2, 0.38, 0.5, 1]\n",
    "- LR, _i.e._ learning rate = [0.001, 0.005, 0.01, 0.1]\n",
    "- MAX_GRAD_NORM, _i.e._ the clip bound = [1, 1.2, 1.5, 2]\n",
    "\n",
    "Unfortunately, none of these changed significatively the $\\epsilon$, which continued to be too high.\n",
    "\n",
    "Then, I noticed that data augmentation was performed on the dataset images: in the transform pipeline, in fact, not only the images was converted into tensors (which is necessary), but random resizing and rotation were performed on them. According to [this opacus tutorial](https://opacus.ai/tutorials/building_image_classifier), introducing data augmentation in image classification tasks with opacus could lead to weird behaviors; I thought that this data augmentation could be the cause of a such high $\\epsilon$, and then I tweaked that part, removing the unwanted data augmentation procedures, and restarted training with different values. In the end, I was able to achieve a better $\\epsilon$ with more or less the same accuracy on both the train and the test set, as reported at the end of the notebook."
   ]
  },
  {
   "cell_type": "markdown",
   "metadata": {},
   "source": [
    "#### Preparatory code (only refactoring performed)"
   ]
  },
  {
   "cell_type": "code",
   "execution_count": null,
   "metadata": {},
   "outputs": [],
   "source": [
    "# installing dependencies\n",
    "import sys\n",
    "!{sys.executable} -m pip install torch opacus opencv-python torchcsprng seaborn gdown scikit-learn"
   ]
  },
  {
   "cell_type": "code",
   "execution_count": 31,
   "metadata": {},
   "outputs": [],
   "source": [
    "# Import libraries\n",
    "\n",
    "# general libraries\n",
    "import numpy as np\n",
    "import pandas as pd\n",
    "from glob import glob\n",
    "import os,cv2\n",
    "from sklearn.model_selection import train_test_split\n",
    "import gdown\n",
    "import zipfile\n",
    "from tqdm import tqdm\n",
    "\n",
    "# torch-related libraries\n",
    "import torch\n",
    "from torch import nn\n",
    "from torch import optim\n",
    "from torchvision import datasets, transforms, models\n",
    "from torch.utils.data import DataLoader,SubsetRandomSampler\n",
    "import torch.nn.functional as F\n",
    "\n",
    "# opacus-related libraries\n",
    "from opacus import PrivacyEngine\n",
    "from opacus.utils import module_modification\n",
    "from opacus.dp_model_inspector import DPModelInspector\n",
    "\n",
    "# suppress useless warnings\n",
    "import warnings\n",
    "warnings.filterwarnings('ignore')"
   ]
  },
  {
   "cell_type": "code",
   "execution_count": 32,
   "metadata": {},
   "outputs": [],
   "source": [
    "# Seed everything for reproducibility\n",
    "np.random.seed(0)\n",
    "torch.manual_seed(0)\n",
    "torch.cuda.manual_seed(0)"
   ]
  },
  {
   "cell_type": "code",
   "execution_count": null,
   "metadata": {},
   "outputs": [],
   "source": [
    "# Download data\n",
    "url = 'https://drive.google.com/uc?id=1CmSVlSuMghyQlsUkKMn_svSn0BIzxjQv'\n",
    "output = 'archive.zip'\n",
    "gdown.download(url, output, quiet=False)\n",
    "\n",
    "with zipfile.ZipFile('./archive.zip', 'r') as zip_ref:\n",
    "    zip_ref.extractall('./t3_data/')\n",
    "\n",
    "os.remove('./archive.zip')\n",
    "\n",
    "# Load data\n",
    "all_image_path = glob(os.path.join('./t3_data/data/train', '*', '*.jpg'))\n",
    "imageid_path_dict = {os.path.splitext(os.path.basename(x))[0]: x for x in all_image_path}"
   ]
  },
  {
   "cell_type": "code",
   "execution_count": 4,
   "metadata": {},
   "outputs": [],
   "source": [
    "# Normalize the image and computes mean and std of the three channels on the whole dataset\n",
    "def compute_img_mean_std(image_paths):\n",
    "    img_h, img_w = 224, 224\n",
    "    imgs = []\n",
    "    norm_mean, norm_std_dev = [], []\n",
    "\n",
    "    for i in range(len(image_paths)):\n",
    "        img = cv2.imread(image_paths[i])\n",
    "        img = cv2.resize(img, (img_h, img_w))\n",
    "        imgs.append(img)\n",
    "\n",
    "    imgs = np.stack(imgs, axis=3)\n",
    "    imgs = imgs.astype(np.float32) / 255.\n",
    "\n",
    "    for i in range(3):\n",
    "        pixels = imgs[:, :, i, :].ravel()\n",
    "        norm_mean.append(np.mean(pixels))\n",
    "        norm_std_dev.append(np.std(pixels))\n",
    "\n",
    "    norm_mean.reverse()\n",
    "    norm_std_dev.reverse()\n",
    "\n",
    "    return norm_mean,norm_std_dev\n",
    "\n",
    "norm_mean, norm_std_dev = compute_img_mean_std(all_image_path)"
   ]
  },
  {
   "cell_type": "markdown",
   "metadata": {},
   "source": [
    "#### Dataset-related code: image transform and dataset creation (image transforms modified)"
   ]
  },
  {
   "cell_type": "code",
   "execution_count": 54,
   "metadata": {},
   "outputs": [],
   "source": [
    "image_transforms = {\n",
    "    \"train\": transforms.Compose([\n",
    "    transforms.Resize((224, 224)),\n",
    "    transforms.ToTensor(),\n",
    "    transforms.Normalize(norm_mean, norm_std_dev)\n",
    "]),\n",
    "    \"test\": transforms.Compose([\n",
    "    transforms.Resize((224, 224)),\n",
    "    transforms.ToTensor(),\n",
    "    transforms.Normalize(norm_mean, norm_std_dev)\n",
    "])}\n",
    "\n",
    "def get_class_distribution(dataset_obj):\n",
    "    count_dict = {k:0 for k,v in dataset_obj.class_to_idx.items()}\n",
    "    for _, label_id in dataset_obj:\n",
    "        label = idx2class[label_id]\n",
    "        count_dict[label] += 1\n",
    "    return count_dict\n",
    "\n",
    "# Create datasets\n",
    "train_dataset = datasets.ImageFolder(root = './t3_data/data/train', transform = image_transforms[\"train\"])\n",
    "idx2class = {v: k for k, v in train_dataset.class_to_idx.items()}\n",
    "\n",
    "dataset_size = len(train_dataset)\n",
    "dataset_indices = list(range(dataset_size))\n",
    "np.random.shuffle(dataset_indices)\n",
    "\n",
    "train_idx = dataset_indices[ 0 : int(np.floor(dataset_size))]\n",
    "train_sampler = SubsetRandomSampler(train_idx)\n",
    "test_dataset = datasets.ImageFolder(root = './t3_data/data/test', transform = image_transforms[\"test\"])\n"
   ]
  },
  {
   "cell_type": "markdown",
   "metadata": {},
   "source": [
    "#### Train part"
   ]
  },
  {
   "cell_type": "code",
   "execution_count": 56,
   "metadata": {},
   "outputs": [],
   "source": [
    "# Hyper parameters\n",
    "\n",
    "MAX_GRAD_NORM = 1.5\n",
    "NOISE_MULTIPLIER = 0.45\n",
    "DELTA = 1e-5\n",
    "\n",
    "LR = 5e-4\n",
    "NUM_WORKERS = 8\n",
    "\n",
    "BATCH_SIZE = 32\n",
    "VIRTUAL_BATCH_SIZE = 64\n"
   ]
  },
  {
   "cell_type": "code",
   "execution_count": 57,
   "metadata": {},
   "outputs": [],
   "source": [
    "def get_class_distribution_loaders(dataloader_obj, dataset_obj):\n",
    "    count_dict = {k:0 for k,v in dataset_obj.class_to_idx.items()}\n",
    "    if dataloader_obj.batch_size == 1:    \n",
    "        for _,label_id in dataloader_obj:\n",
    "            y_idx = label_id.item()\n",
    "            y_lbl = idx2class[y_idx]\n",
    "            count_dict[str(y_lbl)] += 1\n",
    "    else: \n",
    "        for _,label_id in dataloader_obj:\n",
    "            for idx in label_id:\n",
    "                y_idx = idx.item()\n",
    "                y_lbl = idx2class[y_idx]\n",
    "                count_dict[str(y_lbl)] += 1\n",
    "    return count_dict\n",
    "\n",
    "def accuracy(preds, labels):\n",
    "    return (preds == labels).mean()\n",
    "\n",
    "# train and test functions\n",
    "def train(model, train_loader, optimizer, epoch, device):\n",
    "    model.train()\n",
    "    criterion = nn.CrossEntropyLoss()\n",
    "\n",
    "    losses = []\n",
    "    top1_acc = []\n",
    "\n",
    "    for i, (images, target) in enumerate(train_loader):\n",
    "        images = images.to(device)\n",
    "        target = target.to(device)\n",
    "\n",
    "\n",
    "        # compute output\n",
    "        output = model(images)\n",
    "        loss = criterion(output, target)\n",
    "        \n",
    "        preds = np.argmax(output.detach().cpu().numpy(), axis=1)\n",
    "        labels = target.detach().cpu().numpy()\n",
    "        \n",
    "        # measure accuracy and record loss\n",
    "        acc = accuracy(preds, labels)\n",
    "\n",
    "        losses.append(loss.item())\n",
    "        top1_acc.append(acc)\n",
    "        \n",
    "        loss.backward()\n",
    "        \t\n",
    "        # take a real optimizer step after N_VIRTUAL_STEP steps t\n",
    "        if ((i + 1) % virtual_batch_rate == 0) or ((i + 1) == len(train_loader)):\n",
    "            optimizer.step()\n",
    "            optimizer.zero_grad()\n",
    "        else:\n",
    "            optimizer.virtual_step() # take a virtual step\n",
    "\n",
    "        if i % 200 == 0:\n",
    "            epsilon, best_alpha = optimizer.privacy_engine.get_privacy_spent(DELTA)\n",
    "            print(\n",
    "                f\"\\tTrain Epoch: {epoch} \\t\"\n",
    "                f\"Loss: {np.mean(losses):.6f} \"\n",
    "                f\"Acc@1: {np.mean(top1_acc) * 100:.6f} \"\n",
    "                f\"(ε = {epsilon:.2f}, δ = {DELTA})\"\n",
    "            )\n",
    "\n",
    "def test(model, test_loader, device):\n",
    "    model.eval()\n",
    "    criterion = nn.CrossEntropyLoss()\n",
    "    losses = []\n",
    "    top1_acc = []\n",
    "\n",
    "    with torch.no_grad():\n",
    "        for images, target in test_loader:\n",
    "            images = images.to(device)\n",
    "            target = target.to(device)\n",
    "\n",
    "            output = model(images)\n",
    "            loss = criterion(output, target)\n",
    "            preds = np.argmax(output.detach().cpu().numpy(), axis=1)\n",
    "            labels = target.detach().cpu().numpy()\n",
    "            acc = accuracy(preds, labels)\n",
    "\n",
    "            losses.append(loss.item())\n",
    "            top1_acc.append(acc)\n",
    "\n",
    "    top1_avg = np.mean(top1_acc)\n",
    "    \n",
    "    print(\n",
    "        f\"\\tTest set:\"\n",
    "        f\"Loss: {np.mean(losses):.6f} \"\n",
    "        f\"Acc: {top1_avg * 100:.6f} \"\n",
    "    )\n",
    "    return np.mean(top1_acc)"
   ]
  },
  {
   "cell_type": "code",
   "execution_count": 58,
   "metadata": {},
   "outputs": [
    {
     "name": "stderr",
     "output_type": "stream",
     "text": [
      "Epoch:   0%|          | 0/10 [00:00<?, ?epoch/s]"
     ]
    },
    {
     "name": "stdout",
     "output_type": "stream",
     "text": [
      "\tTrain Epoch: 1 \tLoss: 0.987126 Acc@1: 50.000000 (ε = 0.10, δ = 1e-05)\n"
     ]
    },
    {
     "name": "stderr",
     "output_type": "stream",
     "text": [
      "Epoch:  10%|█         | 1/10 [02:53<26:00, 173.43s/epoch]"
     ]
    },
    {
     "name": "stdout",
     "output_type": "stream",
     "text": [
      "\tTest set:Loss: 0.737602 Acc: 77.500000 \n",
      "\tTrain Epoch: 2 \tLoss: 0.553758 Acc@1: 81.250000 (ε = 13.34, δ = 1e-05)\n"
     ]
    },
    {
     "name": "stderr",
     "output_type": "stream",
     "text": [
      "Epoch:  20%|██        | 2/10 [05:47<23:10, 173.81s/epoch]"
     ]
    },
    {
     "name": "stdout",
     "output_type": "stream",
     "text": [
      "\tTest set:Loss: 1.041298 Acc: 77.589286 \n",
      "\tTrain Epoch: 3 \tLoss: 0.654026 Acc@1: 87.500000 (ε = 16.17, δ = 1e-05)\n"
     ]
    },
    {
     "name": "stderr",
     "output_type": "stream",
     "text": [
      "Epoch:  30%|███       | 3/10 [08:40<20:12, 173.27s/epoch]"
     ]
    },
    {
     "name": "stdout",
     "output_type": "stream",
     "text": [
      "\tTest set:Loss: 0.944488 Acc: 79.375000 \n",
      "\tTrain Epoch: 4 \tLoss: 0.724972 Acc@1: 81.250000 (ε = 18.44, δ = 1e-05)\n"
     ]
    },
    {
     "name": "stderr",
     "output_type": "stream",
     "text": [
      "Epoch:  40%|████      | 4/10 [11:33<17:19, 173.28s/epoch]"
     ]
    },
    {
     "name": "stdout",
     "output_type": "stream",
     "text": [
      "\tTest set:Loss: 0.784898 Acc: 79.494048 \n",
      "\tTrain Epoch: 5 \tLoss: 0.945313 Acc@1: 78.125000 (ε = 20.31, δ = 1e-05)\n"
     ]
    },
    {
     "name": "stderr",
     "output_type": "stream",
     "text": [
      "Epoch:  50%|█████     | 5/10 [14:28<14:28, 173.76s/epoch]"
     ]
    },
    {
     "name": "stdout",
     "output_type": "stream",
     "text": [
      "\tTest set:Loss: 0.834357 Acc: 80.238095 \n",
      "\tTrain Epoch: 6 \tLoss: 0.460885 Acc@1: 90.625000 (ε = 22.16, δ = 1e-05)\n"
     ]
    },
    {
     "name": "stderr",
     "output_type": "stream",
     "text": [
      "Epoch:  60%|██████    | 6/10 [17:20<11:33, 173.46s/epoch]"
     ]
    },
    {
     "name": "stdout",
     "output_type": "stream",
     "text": [
      "\tTest set:Loss: 0.814087 Acc: 79.880952 \n",
      "\tTrain Epoch: 7 \tLoss: 0.721337 Acc@1: 81.250000 (ε = 23.63, δ = 1e-05)\n"
     ]
    },
    {
     "name": "stderr",
     "output_type": "stream",
     "text": [
      "Epoch:  70%|███████   | 7/10 [20:14<08:40, 173.45s/epoch]"
     ]
    },
    {
     "name": "stdout",
     "output_type": "stream",
     "text": [
      "\tTest set:Loss: 0.837522 Acc: 80.089286 \n",
      "\tTrain Epoch: 8 \tLoss: 0.499970 Acc@1: 81.250000 (ε = 25.10, δ = 1e-05)\n"
     ]
    },
    {
     "name": "stderr",
     "output_type": "stream",
     "text": [
      "Epoch:  80%|████████  | 8/10 [23:08<05:47, 173.57s/epoch]"
     ]
    },
    {
     "name": "stdout",
     "output_type": "stream",
     "text": [
      "\tTest set:Loss: 0.855306 Acc: 80.476190 \n",
      "\tTrain Epoch: 9 \tLoss: 1.100996 Acc@1: 75.000000 (ε = 26.57, δ = 1e-05)\n"
     ]
    },
    {
     "name": "stderr",
     "output_type": "stream",
     "text": [
      "Epoch:  90%|█████████ | 9/10 [26:01<02:53, 173.58s/epoch]"
     ]
    },
    {
     "name": "stdout",
     "output_type": "stream",
     "text": [
      "\tTest set:Loss: 0.919086 Acc: 80.476190 \n",
      "\tTrain Epoch: 10 \tLoss: 0.743814 Acc@1: 87.500000 (ε = 28.04, δ = 1e-05)\n"
     ]
    },
    {
     "name": "stderr",
     "output_type": "stream",
     "text": [
      "Epoch: 100%|██████████| 10/10 [28:55<00:00, 173.52s/epoch]"
     ]
    },
    {
     "name": "stdout",
     "output_type": "stream",
     "text": [
      "\tTest set:Loss: 0.877125 Acc: 80.773810 \n"
     ]
    },
    {
     "name": "stderr",
     "output_type": "stream",
     "text": [
      "\n"
     ]
    }
   ],
   "source": [
    "train_loader = DataLoader(dataset=train_dataset, shuffle=False, batch_size=BATCH_SIZE, sampler=train_sampler,num_workers=NUM_WORKERS, drop_last = True)\n",
    "test_loader = DataLoader(dataset=test_dataset, shuffle=False, batch_size=BATCH_SIZE)\n",
    "\n",
    "single_batch = next(iter(train_loader))\n",
    "\n",
    "single_image = single_batch[0][0]\n",
    "\n",
    "# TRAIN MODEL\n",
    "model = models.resnet18(num_classes=2)\n",
    "inspector = DPModelInspector()\n",
    "model = module_modification.convert_batchnorm_modules(model)\n",
    "inspector = DPModelInspector()\n",
    "inspector.validate(model)\n",
    "criterion = nn.CrossEntropyLoss()\n",
    "optimizer = optim.RMSprop(model.parameters(), lr=LR)\n",
    "privacy_engine = PrivacyEngine(\n",
    "    model,\n",
    "    batch_size=VIRTUAL_BATCH_SIZE,\n",
    "    sample_size=len(train_dataset),\n",
    "    alphas=[1 + x / 10.0 for x in range(1, 100)] + list(range(12, 64)),\n",
    "    noise_multiplier=NOISE_MULTIPLIER,\n",
    "    max_grad_norm=MAX_GRAD_NORM,\n",
    ")\n",
    "privacy_engine.attach(optimizer)\n",
    "\n",
    "assert VIRTUAL_BATCH_SIZE % BATCH_SIZE == 0 \n",
    "virtual_batch_rate = int(VIRTUAL_BATCH_SIZE / BATCH_SIZE)\n",
    "\n",
    "for epoch in tqdm(range(10), desc=\"Epoch\", unit=\"epoch\"):\n",
    "    train(model, train_loader, optimizer, epoch + 1, 'cpu')\n",
    "    test(model, test_loader, 'cpu')"
   ]
  },
  {
   "cell_type": "markdown",
   "metadata": {},
   "source": [
    "Note: the \"Test set\" output refers to the previous epoch.\n",
    "From these results is pretty clear that I've been able to improve the privacy of the classification task: removing the data augmentation parts and tweaking the hyperparameters, in fact, allowed me to keep the $\\epsilon$ more in control, without too high peaks.\n",
    "A good compromise for this problem could be the last one I executed. To be more precise, with\n",
    "\n",
    "- MAX_GRAD_NORM = 1.5\n",
    "- NOISE_MULTIPLIER = 0.45\n",
    "- LR = 5e-4\n",
    "- BATCH_SIZE = 32\n",
    "\n",
    "I was able to achieve a $(16.17, 10^{-5})$-DP with $0.875$ accuracy on the training set and $0.794$ accuracy on the test set."
   ]
  }
 ],
 "metadata": {
  "interpreter": {
   "hash": "916dbcbb3f70747c44a77c7bcd40155683ae19c65e1c03b4aa3499c5328201f1"
  },
  "kernelspec": {
   "display_name": "Python 3.7.3 64-bit",
   "name": "python3"
  },
  "language_info": {
   "codemirror_mode": {
    "name": "ipython",
    "version": 3
   },
   "file_extension": ".py",
   "mimetype": "text/x-python",
   "name": "python",
   "nbconvert_exporter": "python",
   "pygments_lexer": "ipython3",
   "version": "3.7.3"
  }
 },
 "nbformat": 4,
 "nbformat_minor": 4
}
