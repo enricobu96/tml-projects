{
 "cells": [
  {
   "cell_type": "markdown",
   "metadata": {},
   "source": [
    "University of Helsinki, Master's Programme in Data Science  \n",
    "DATA20019 Trustworthy Machine Learning, Autumn 2021  \n",
    "Antti Honkela and Ossi Räisä  \n",
    "\n",
    "# Project 1: Local differential privacy for privacy-preserving data analysis\n",
    "\n",
    "Deadline for returning the solutions: 14 November 23:55.\n",
    "\n",
    "Python is recommended for solving the problems and it is supported by the course. If you wish, you can use R, but we cannot guarantee support for technical problems in R.\n",
    "\n",
    "## General instructions (IMPORTANT!)\n",
    "\n",
    "1. This is an individual project. You can discuss the solutions with other students, but everyone needs to write their own code and answers.\n",
    "2. Please return your solutions as a notebook. When returning your solutions, please leave all output in the notebook.\n",
    "3. When returning your solutions, please make sure the notebook can be run cleanly using \"Cell\" / \"Run All\".\n",
    "4. Please make sure there are no dependencies between solutions to different problems.\n",
    "5. Please make sure that your notebook will not depend on any local files.\n",
    "6. Please make sure that the solutions for each problem in your notebook will produce the same results when run multiple times, i.e. remember to seed any random number generators you use (`numpy.random.seed()`!).\n"
   ]
  },
  {
   "cell_type": "markdown",
   "metadata": {},
   "source": [
    "## Background on local differential privacy (LDP)\n",
    "\n",
    "All problems in this project are about local differential privacy (LDP). LDP is a special case of differential privacy where the data set consists only of data from a single user.\n",
    "\n",
    "A typical LDP algorithm works as follows:\n",
    "1. Each user has some local data $x$.\n",
    "2. The user applies a local randomiser $\\mathcal{M}(x)$ to their data to obtain a noisy version $z = \\mathcal{M}(x)$. The local randomiser must satisfy DP. The noisy $z$ can then be shared with a central aggregator.\n",
    "3. The aggregator collects $z$ values from multiple users and analyses then jointly to make inferences on statistical properties of $x$ over the population of participating users."
   ]
  },
  {
   "cell_type": "markdown",
   "metadata": {},
   "source": [
    "\n",
    "## Task 1: Do you use illegal drugs?\n",
    "\n",
    "Let us consider the so-called \"randomised response\" mechanism for collecting responses to a potentially embarrassing or private question. In this mechanism, the respondents are instructed to as follows:\n",
    "\n",
    "1. Flip a coin.\n",
    "2. If **tails**, then respond truthfully.\n",
    "3. If **heads**, then flip a second coin and respond *Yes* if heads and *No* if tails.\n",
    "\n",
    "i. Calculate analytically the probability of the randomised response being \"yes\" and the probability of the randomised response being \"no\", conditional to true response being \"yes\"/\"no\".\n",
    "\n",
    "ii. Prove that this mechanism satisfies local $\\epsilon$-DP with $\\epsilon = \\ln 3$.\n",
    "\n",
    "iii. Assuming a population of independent respondents who have the probability $\\pi$ to answer yes. Design a method to estimate $\\pi$ from the noisy responses. Simulate the mechanism with $n$ participants for $n = 10, 100, 1000, 10000$ with $\\pi = 0.01, 0.1$. How accurately can you estimate $\\pi$ in the different cases? \n",
    "\n",
    "Hint: You can write the expected number of positive responses as a function of $\\pi$ using the result of task i above. Setting this equal to the number of observed positive responses allows you to solve for an estimate of $\\pi$.\n"
   ]
  },
  {
   "cell_type": "markdown",
   "metadata": {},
   "source": [
    "### Answers"
   ]
  },
  {
   "cell_type": "markdown",
   "metadata": {},
   "source": [
    "#### Question I\n",
    "\n",
    "As also stated in the course slides:\n",
    "- The probability that, given the true response to be \"Yes\", the random response is \"Yes\" is $\\frac{3}{4}$, and the same applies to both the variables equals to \"No\"\n",
    "- The probability that, given the true response to be \"No\", the random response is \"Yes\" is $\\frac{1}{4}$, and the same applies to the vice versa\n",
    "\n",
    "Formally, we can define:\n",
    "- _R_ to be the random response, with values \"No\" or \"Yes\"\n",
    "- _T_ to be the true response, with values \"No\" or \"Yes\"\n",
    "\n",
    "Then the probabilities we are searching for are:\n",
    "- $P(R=\"Yes\"\\mid T=\"Yes\")=P(R=\"No\"\\mid T=\"No\")=\\frac{1}{2}+\\frac{1}{2}\\cdot\\frac{1}{2}=\\frac{3}{4}$\n",
    "- $P(R=\"No\"\\mid T=\"Yes\")=P(R=\"Yes\"\\mid T=\"No\")=\\frac{1}{2}\\cdot\\frac{1}{2}=\\frac{1}{4}$"
   ]
  },
  {
   "cell_type": "markdown",
   "metadata": {},
   "source": [
    "#### Question II\n",
    "\n",
    "In order to prove that this mechanism satisfies local $\\epsilon-DP$ with $\\epsilon=ln3$ we must show that $$\\frac{Pr(\\mathcal{M}(\\mathcal{D})\\ =\\ \"Yes\")}{Pr(\\mathcal{M}(\\mathcal{D'})\\ =\\ \"Yes\")} \\leq e^{ln3}$$\n",
    "That is $$\\frac{3/4}{1/4} = 3 = e^{ln3}$$ and thus the machanism satisfies $\\epsilon-DP$."
   ]
  },
  {
   "cell_type": "markdown",
   "metadata": {},
   "source": [
    "#### Question III"
   ]
  },
  {
   "cell_type": "code",
   "execution_count": 20,
   "metadata": {},
   "outputs": [
    {
     "name": "stdout",
     "output_type": "stream",
     "text": [
      "N\tP\tEstimated\n",
      "10\t0.01\t 0.3\n",
      "100\t0.01\t 0.2\n",
      "1000\t0.01\t 0.25\n",
      "10000\t0.01\t 0.2449\n",
      "10\t0.1\t 0.2\n",
      "100\t0.1\t 0.37\n",
      "1000\t0.1\t 0.303\n",
      "10000\t0.1\t 0.298\n"
     ]
    }
   ],
   "source": [
    "import numpy as np\n",
    "\n",
    "# Note: 0 = tails, 1 = head\n",
    "np.random.seed(0)\n",
    "def simulate(pi, n):\n",
    "    rand_yes = 0\n",
    "    for i in range(0,n):\n",
    "        t_answer = np.random.choice([0,1], p=[1-pi,pi]) # choose true answer with probability pi for yes and 1-pi for no\n",
    "        if np.random.choice([0,1], p=[0.5,0.5]) == 0: # throw coin\n",
    "            if t_answer==1:\n",
    "                rand_yes+=1\n",
    "        else: #rethrow coin\n",
    "            if np.random.choice([0,1], p=[0.5,0.5]) == 1:\n",
    "                rand_yes+=1\n",
    "    return rand_yes/n # return probability\n",
    "\n",
    "print('N\\tP\\tEstimated')\n",
    "print(\"10\\t0.01\\t\", simulate(0.01, 10))\n",
    "print(\"100\\t0.01\\t\", simulate(0.01, 100))\n",
    "print(\"1000\\t0.01\\t\", simulate(0.01, 1000))\n",
    "print(\"10000\\t0.01\\t\", simulate(0.01, 10000))\n",
    "print(\"10\\t0.1\\t\", simulate(0.1, 10))\n",
    "print(\"100\\t0.1\\t\", simulate(0.1, 100))\n",
    "print(\"1000\\t0.1\\t\", simulate(0.1, 1000))\n",
    "print(\"10000\\t0.1\\t\", simulate(0.1, 10000))\n"
   ]
  },
  {
   "cell_type": "markdown",
   "metadata": {},
   "source": [
    "## Task 2: Generalising randomised response\n",
    "\n",
    "Consider a generalised randomised response mechanism, where each person flips $k$ coins in step 1 and responds truthfully if either  \n",
    "i. all of them display tails  \n",
    "ii. any one of them displays tails.\n",
    "\n",
    "In all other cases the participant would flip another coin to choose a random answer.\n",
    "\n",
    "Verify that both of these produce $\\epsilon$-DP mechanisms for each $k$. Evaluate and plot $\\epsilon$ as a function of $k$ for each case and $k = 1, \\dots, 10$.\n",
    "\n",
    "Hint: you cannot show that something is $\\epsilon$-DP empirically, only analytically."
   ]
  },
  {
   "cell_type": "markdown",
   "metadata": {},
   "source": [
    "### Answers"
   ]
  },
  {
   "cell_type": "markdown",
   "metadata": {},
   "source": [
    "#### Case I"
   ]
  },
  {
   "cell_type": "markdown",
   "metadata": {},
   "source": [
    "Using the same notation of the previous exercise, the probability $P(R=\"Yes\"|T=\"Yes\")$ for $k$ responses in which all of them display tails can be calculated with the following formula: $$P(R=\"Yes\"|T=\"Yes\")=\\left (\\frac{1}{2}\\right )^k+\\left (\\frac{2^k-1}{2^k}\\right )\\cdot\\left (\\frac{1}{2}\\right )$$\n",
    "And, obviously, the probability $P(R=\"Yes\"|T=\"No\")$ is the complementary of $P(R=\"Yes\"|T=\"Yes\")$.\n",
    "\n",
    "The following code calculates the different $\\epsilon$ for the different $k$ and plots them. It is clear that this case produces an $\\epsilon$-DP mechanism, and to be more precise, the more the flips the more is the privacy level achieved."
   ]
  },
  {
   "cell_type": "code",
   "execution_count": 21,
   "metadata": {},
   "outputs": [
    {
     "data": {
      "image/png": "[encoded data removed]",
      "text/plain": [
       "<Figure size 432x288 with 1 Axes>"
      ]
     },
     "metadata": {
      "needs_background": "light"
     },
     "output_type": "display_data"
    }
   ],
   "source": [
    "import numpy as np\n",
    "import matplotlib.pyplot as plt\n",
    "\n",
    "# Note: 0 = tails, 1 = heads\n",
    "np.random.seed(0)\n",
    "def calculate_eps(k): # calculate epsilon with the formula reported above\n",
    "    yy = 1/(2**k) + ((2**k-1)/2**k * (1/2))\n",
    "    yn = 1 - yy\n",
    "    epsilon = np.log(yy/yn)\n",
    "    return epsilon\n",
    "    \n",
    "def compute_x_y(): # build x and y for the graph\n",
    "    x = []\n",
    "    y = []\n",
    "    for i in range(1,11):\n",
    "        x.append(i)\n",
    "        y.append(calculate_eps(i))\n",
    "    return x, y\n",
    "\n",
    "x, y = compute_x_y()\n",
    "plt.plot(x,y)\n",
    "plt.show()       "
   ]
  },
  {
   "cell_type": "markdown",
   "metadata": {},
   "source": [
    "#### Case II"
   ]
  },
  {
   "cell_type": "markdown",
   "metadata": {},
   "source": [
    "The probability $P(R=\"Yes\"|T=\"Yes\")$ for $k$ responses in which any of them display tails can be calculated with the following formula: $$P(R=\"Yes\"|T=\"Yes\")=\\left (\\frac{1}{2}\\right )^k\\cdot(2^k-1)+\\frac{1}{2}\\cdot\\left (\\frac{1}{2} \\right )^k$$\n",
    "And, obviously, the probability $P(R=\"Yes\"|T=\"No\")$ is the complementary of $P(R=\"Yes\"|T=\"Yes\")$.\n",
    "\n",
    "The following code calculates the different $\\epsilon$ for the different $k$ and plots them. It is clear that this case produces an $\\epsilon$-DP mechanism, and to be more precise, the more the flips the less is the privacy level achieved."
   ]
  },
  {
   "cell_type": "code",
   "execution_count": 22,
   "metadata": {},
   "outputs": [
    {
     "data": {
      "image/png": "[encoded data removed]",
      "text/plain": [
       "<Figure size 432x288 with 1 Axes>"
      ]
     },
     "metadata": {
      "needs_background": "light"
     },
     "output_type": "display_data"
    }
   ],
   "source": [
    "import numpy as np\n",
    "import matplotlib.pyplot as plt\n",
    "import math\n",
    "\n",
    "# Note: 0 = tails, 1 = heads\n",
    "np.random.seed(0)\n",
    "def calculate_eps(k):\n",
    "    yy = (2**k-1)/2**k + (1/2**k)*(1/2)\n",
    "    yn = 1 - yy\n",
    "    epsilon = math.log(yy/yn)\n",
    "    return epsilon\n",
    "    \n",
    "def compute_x_y():\n",
    "    x = []\n",
    "    y = []\n",
    "    for i in range(1,11):\n",
    "        x.append(i)\n",
    "        y.append(calculate_eps(i))\n",
    "    return x, y\n",
    "\n",
    "x, y = compute_x_y()\n",
    "plt.plot(x,y)\n",
    "plt.show() "
   ]
  },
  {
   "cell_type": "markdown",
   "metadata": {},
   "source": [
    "## Task 3: How much money do you have on your bank account?\n",
    "\n",
    "To answer a question about a scalar value, we need a different mechanism. Here we use the Laplace mechanism, which works as follows:\n",
    "\n",
    "* Evaluate the *sensitivity* of the function $f$ of interest:\n",
    "$$ \\Delta f = \\max\\limits_{\\mathcal{D} \\sim \\mathcal{D}'} | f(\\mathcal{D}) - f(\\mathcal{D}') |, $$\n",
    "where $\\mathcal{D} \\sim \\mathcal{D}'$ denotes pairs of data sets that differ by a single sample.\n",
    "* Compute $\\mathcal{M}(\\mathcal{D}) = f(\\mathcal{D}) + \\frac{\\Delta f}{\\epsilon} \\eta$\n",
    "where $\\eta \\sim \\operatorname{Laplace}(0, 1)$\n",
    "\n",
    "In this exercise we apply the Laplace mechanism in locally differentially private (LDP) mode, i.e. each individual is assumed to form a different single-observation data set that is protected using this mechanism.\n",
    "\n",
    "In order to estimate the mean of the distribution of data held by the users, we can use the following moment identities with $x$ denoting the user data and $z$ denoting the Laplace noise added for DP:\n",
    "$$ \\mathrm{E}[x + z] = \\mathrm{E}[x] + \\mathrm{E}[z], $$\n",
    "$$ \\mathrm{Var}[x + z] = \\mathrm{Var}[x] + \\mathrm{Var}[z]. $$\n",
    "\n",
    "i) What is the probability $Pr(\\mathcal{M}(\\mathcal{D})=s)$ for some outcome $s$? Also, find the ratio $\\frac{Pr(\\mathcal{M}(\\mathcal{D})=s)}{Pr(\\mathcal{M}(\\mathcal{D}')=s)}$.\n",
    "\n",
    "ii) (Optional) Verify that this mechanism satisfies $\\epsilon$-DP.\n",
    "\n",
    "iii) Assuming a population of independent respondents whose bank account balances follow the exponential distribution $\\mathrm{Exp}(\\lambda)$ with $\\lambda = 1/5000$. Simulate the mechanism for $n$ participants with $n = 10, 100, 1000, 10000$. How accurately can you estimate the mean and the standard deviation of the bank account balance distribution, when using DP with $\\epsilon = 0.1$ (very strong privacy), $\\epsilon = 1$ (moderately strong privacy) and $\\epsilon = 10$ (very weak privacy)?\n",
    "Repeat each simulation 100 times to get an idea of the accuracy.\n",
    "\n",
    "Hint: you will need to set an upper bound on the allowed balances to get a bounded sensitivity. Larger values can be handled e.g. by setting them to the maximum. In order to guarantee DP, this bound should be selected independently of the actual data at hand. (Mechanisms that do not require such an a priori bound exist, but are more complicated. If you are interested, see e.g. https://dl.acm.org/citation.cfm?id=1250803.)\n"
   ]
  },
  {
   "cell_type": "markdown",
   "metadata": {},
   "source": [
    "### Answer"
   ]
  },
  {
   "cell_type": "markdown",
   "metadata": {},
   "source": [
    "#### Question I\n",
    "\n",
    "The probability $Pr(\\mathcal{M}(\\mathcal{D})=s)$ can be calculated considering $\\mathcal{M}(\\mathcal{D}) = f(\\mathcal{D}) + \\frac{\\Delta f}{\\epsilon} \\eta$, so $$Pr(\\mathcal{M}(\\mathcal{D})=s) = Pr(f(\\mathcal{D}) + \\frac{\\Delta f}{\\epsilon} \\eta = s)$$ With simple algebric operations we get $$Pr(f(\\mathcal{D}) + \\frac{\\Delta f}{\\epsilon} \\eta = s) = Pr(\\eta = (s-f(\\mathcal{D}))\\cdot\\frac{\\epsilon}{\\Delta f})$$\n",
    "And then, since $\\mu=0$ and $b=1$, $$Pr(\\eta = (s-f(\\mathcal{D}))\\cdot\\frac{\\epsilon}{\\Delta f}) = \\frac{1}{2}\\cdot e^{-\\left |(s-f(\\mathcal{D}))\\cdot\\frac{\\epsilon}{\\Delta f}\\right |}$$\n",
    "Finally, the ratio is $$\\frac{\\frac{1}{2}\\cdot e^{-\\left |(s-f(\\mathcal{D}))\\cdot\\frac{\\epsilon}{\\Delta f}\\right |}}{\\frac{1}{2}\\cdot e^{-\\left |(s-f(\\mathcal{D'}))\\cdot\\frac{\\epsilon}{\\Delta f}\\right |}}$$ and so $$e^{-\\left |(s-f(\\mathcal{D}))\\cdot\\frac{\\epsilon}{\\Delta f}\\right | + \\left |(s-f(\\mathcal{D'}))\\cdot\\frac{\\epsilon}{\\Delta f}\\right |}$$"
   ]
  },
  {
   "cell_type": "markdown",
   "metadata": {},
   "source": [
    "#### Question II\n",
    "\n",
    "In order to prove that this mechanism satisfies $\\epsilon$-DP, we can do further calulations. We then discover that $$e^{-\\left |(s-f(\\mathcal{D}))\\cdot\\frac{\\epsilon}{\\Delta f}\\right | + \\left |(s-f(\\mathcal{D'}))\\cdot\\frac{\\epsilon}{\\Delta f}\\right |} \\leq e^{\\left | (s-f(\\mathcal{D'}))\\cdot\\frac{\\epsilon}{\\Delta f} - (s-f(\\mathcal{D}))\\cdot\\frac{\\epsilon}{\\Delta f}\\right |} \\leq e^{\\left | f(\\mathcal{D})-f(\\mathcal{D'}) \\right |} \\leq e^\\epsilon$$"
   ]
  },
  {
   "cell_type": "markdown",
   "metadata": {},
   "source": [
    "#### Question III"
   ]
  },
  {
   "cell_type": "code",
   "execution_count": 23,
   "metadata": {},
   "outputs": [
    {
     "name": "stdout",
     "output_type": "stream",
     "text": [
      "Epsilon = 0.1\n",
      "n\tmean\tstd\n",
      "10 \t -2517 \t 256336\n",
      "100 \t 2660 \t 274463\n",
      "1000 \t 5168 \t 277640\n",
      "10000 \t 5109 \t 278678\n",
      "Epsilon = 1\n",
      "n\tmean\tstd\n",
      "10 \t 4201 \t 21394\n",
      "100 \t 4214 \t 24196\n",
      "1000 \t 4842 \t 23939\n",
      "10000 \t 4909 \t 24051\n",
      "Epsilon = 10\n",
      "n\tmean\tstd\n",
      "10 \t 4851 \t 943\n",
      "100 \t 4903 \t 837\n",
      "1000 \t 4886 \t 796\n",
      "10000 \t 4911 \t 800\n"
     ]
    }
   ],
   "source": [
    "import numpy as np\n",
    "\n",
    "np.random.seed(0)\n",
    "def simulate(n, eps):\n",
    "    dist = np.random.exponential(scale=5000, size=n) # create random distribution (exponential)\n",
    "    data = np.clip(dist, 0, 20000) # clip data to upper bound = 20000 (arbitrary number in order to have bounded sensitivity)\n",
    "    noise = np.random.laplace(loc=0, scale=1, size=n) # generate noise with Laplace(0,1)\n",
    "    distorted = data + noise*(20000/eps) # add noise to data\n",
    "    return np.mean(distorted), np.sqrt(np.var(distorted))-np.sqrt(np.var(data)+2) # return mean and variance\n",
    "\n",
    "for e in [0.1, 1, 10]:\n",
    "    print('Epsilon =', e)\n",
    "    print(\"n\\tmean\\tstd\")\n",
    "    for n in [10, 100, 1000, 10000]:\n",
    "        m = 0\n",
    "        v = 0\n",
    "        for j in range(0, 100):\n",
    "            m1, v1 = simulate(n,e)\n",
    "            m+=m1\n",
    "            v+=v1\n",
    "        m/=100\n",
    "        v/=100\n",
    "        print(n, '\\t', int(m), '\\t', int(v))\n"
   ]
  },
  {
   "cell_type": "markdown",
   "metadata": {},
   "source": [
    "## Task 4: Does your age affect your account balance?\n",
    "\n",
    "We can apply the LDP Laplace mechanism to fit a linear regression model to model the bank account balance as a function of age. We know that the respondents are of age 20-70 years and their account balances are at most 150000.\n",
    "\n",
    "Linear regression fit to scalar $x_i, y_i$ involves fitting the model\n",
    "$$ y_i = \\alpha + \\beta x_i + \\epsilon_i, $$\n",
    "where $\\beta$ is the regression coefficient and $\\alpha$ is the intercept. Assuming regression errors $\\epsilon_i$ are normally distributed, the maximum likelihood estimates of the parameters are\n",
    "$$ \\hat{\\beta}= \\frac{\\sum_{i = 1}^n (x_i - \\bar{x})(y_i - \\bar{y}) }{ \\sum_{i = 1}^n (x_i - \\bar{x})^2} \\\\\n",
    "   \\hat{\\alpha} = \\bar{y} - \\hat{\\beta} \\bar{x},$$\n",
    "where $\\bar{x} = \\frac{1}{n} \\sum_{i = 1}^n x_i$ and $\\bar{y} = \\frac{1}{n} \\sum_{i = 1}^n y_i$.\n",
    "\n",
    "i. Use the data in \"balances.csv\" loaded below, and release $x$ (the age) and $y$ (the bank account balance) using Laplace mechanism with total privacy loss $\\epsilon=1$ and fit the regression model to the noisy data. Repeat the process 100 times and evaluate how the model compares with one learned from clean data. Because you are releasing the composition of two queries, you will need to use $\\epsilon/2$ as the $\\epsilon$ for each query to reach total privacy loss of $\\epsilon$.\n",
    "\n",
    "ii. Design a two-step protocol that first estimates the means $\\bar{x}$ and $\\bar{y}$, and then uses these to release the terms $(x_i - \\bar{x}) (y_i - \\bar{y})$, $(x_i - \\bar{x})^2$ using the LDP Laplace mechanism. Fit the regression model using the noisy information. Compare with the above. In order to make the results comparable, the total privacy loss should be $\\epsilon=1$. Because you are releasing the composition of four queries, you will need to use $\\epsilon/4$ as the $\\epsilon$ for each query to reach total privacy loss of $\\epsilon$.\n",
    "\n",
    "iii. Repeat the above cases with total privacy loss $\\epsilon = 10$ and compare the results.\n",
    "\n",
    "iv. Compare your results for the two-step protocol with a version using central DP Laplace mechanism where the mechanism $\\mathcal{M}(\\mathcal{D})$ operates on the entire data set at the same time. (Hint: because the results depend only on *sums* over individuals, the sensitivity of the query is the same regardless the number of entries in the sum. Therefore in the central model you add the same amount of noise to the sum as in the local model you add to each term.)\n",
    "\n",
    "Hint: you can use the known range of values of $x$ and $y$ to bound the sensitivites. For the two-step protocol, you can also use the published private means $\\bar{x}$ and $\\bar{y}$ to evaluate the sensitivity for the second step, as long as you do not use any other features of the specific data set.\n",
    "\n",
    "Comment: a better solution would take into account the knowledge of the noise added. Developing algorithms like this is in many cases still an open research problem. Furthermore, the privacy budget can be split between different queries arbitrarily, not necessarily evenly like here."
   ]
  },
  {
   "cell_type": "markdown",
   "metadata": {},
   "source": [
    "### Answer"
   ]
  },
  {
   "cell_type": "markdown",
   "metadata": {},
   "source": [
    "#### Question I and III"
   ]
  },
  {
   "cell_type": "code",
   "execution_count": 24,
   "metadata": {},
   "outputs": [],
   "source": [
    "import numpy as np\n",
    "import numpy.random as npr\n",
    "import pandas as pd\n",
    "import matplotlib.pyplot as plt\n",
    "\n",
    "data = pd.read_csv('https://www.cs.helsinki.fi/u/ahonkela/teaching/tml/balances.csv', header=0, index_col=0)\n",
    "\n",
    "x = data.values[:,0]\n",
    "y = data.values[:,1]\n",
    "N = len(data)\n",
    "\n",
    "# Parameters\n",
    "div_eps = 2\n",
    "min_x = 20\n",
    "max_x = 70\n",
    "min_y = 0\n",
    "max_y = 150000\n",
    "sens_x = max_x - min_x\n",
    "sens_y = max_y - min_y\n",
    "\n",
    "np.random.seed(0)\n",
    "def apply_noise(x, y, eps): # apply noise to both x and y\n",
    "    x = np.clip(x, min_x, max_x) # clip x (not needed in theory, it should be already clipped, just to be sure)\n",
    "    y = np.clip(y, min_y, max_y) # same\n",
    "    noise_x = npr.laplace(size=N) # generate noise\n",
    "    noise_y = npr.laplace(size=N)\n",
    "    return x+noise_x*(sens_x/(eps/div_eps)), y+noise_y*(sens_y/(eps/div_eps)) # return distorted data\n",
    "\n",
    "def linear_regression(x,y): # compute simple linear regression (beta and alpha)\n",
    "    beta = np.sum((x-np.average(x))*(y - np.average(y))/np.sum((x-np.average(x))**2))\n",
    "    alpha = np.average(y) - beta*np.average(x)    \n",
    "    return beta, alpha\n",
    "\n",
    "beta_orig, alpha_orig = linear_regression(x,y)\n",
    "beta_noise = 0\n",
    "alpha_noise = 0"
   ]
  },
  {
   "cell_type": "code",
   "execution_count": 25,
   "metadata": {},
   "outputs": [
    {
     "name": "stdout",
     "output_type": "stream",
     "text": [
      "Epsilon = 1\n",
      "beta_orig\t\tbeta_noise\n",
      "1146.959011527517 \t 8.696378503991358\n",
      "alpha_orig\t\talpha_noise\n",
      "-1776.3642287172843 \t 48920.767289936586 \n",
      "\n",
      "Epsilon = 10\n",
      "beta_orig\t\tbeta_noise\n",
      "1146.959011527517 \t 565.8971284574019\n",
      "alpha_orig\t\talpha_noise\n",
      "-1776.3642287172843 \t 24596.172541677683 \n",
      "\n"
     ]
    }
   ],
   "source": [
    "# if repeat 100 times is intended to be the mean of beta and alpha\n",
    "\n",
    "for eps in [1,10]:\n",
    "    for i in range(0,100):\n",
    "        x_noise, y_noise = apply_noise(x,y,eps)\n",
    "        b1, a1 = linear_regression(x_noise, y_noise)\n",
    "        beta_noise+=b1\n",
    "        alpha_noise+=a1\n",
    "\n",
    "    beta_noise/=100\n",
    "    alpha_noise/=100\n",
    "    print('Epsilon =', eps)\n",
    "    print('beta_orig\\t\\tbeta_noise')\n",
    "    print(beta_orig, '\\t', beta_noise)\n",
    "    print('alpha_orig\\t\\talpha_noise')\n",
    "    print(alpha_orig, '\\t', alpha_noise,'\\n')"
   ]
  },
  {
   "cell_type": "code",
   "execution_count": 26,
   "metadata": {},
   "outputs": [
    {
     "name": "stdout",
     "output_type": "stream",
     "text": [
      "Epsilon = 1\n",
      "Betas\n"
     ]
    },
    {
     "data": {
      "image/png": "[encoded data removed]",
      "text/plain": [
       "<Figure size 432x288 with 1 Axes>"
      ]
     },
     "metadata": {
      "needs_background": "light"
     },
     "output_type": "display_data"
    },
    {
     "name": "stdout",
     "output_type": "stream",
     "text": [
      "Alphas\n"
     ]
    },
    {
     "data": {
      "image/png": "[encoded data removed]",
      "text/plain": [
       "<Figure size 432x288 with 1 Axes>"
      ]
     },
     "metadata": {
      "needs_background": "light"
     },
     "output_type": "display_data"
    },
    {
     "name": "stdout",
     "output_type": "stream",
     "text": [
      "Epsilon = 10\n",
      "Betas\n"
     ]
    },
    {
     "data": {
      "image/png": "[encoded data removed]",
      "text/plain": [
       "<Figure size 432x288 with 1 Axes>"
      ]
     },
     "metadata": {
      "needs_background": "light"
     },
     "output_type": "display_data"
    },
    {
     "name": "stdout",
     "output_type": "stream",
     "text": [
      "Alphas\n"
     ]
    },
    {
     "data": {
      "image/png": "[encoded data removed]",
      "text/plain": [
       "<Figure size 432x288 with 1 Axes>"
      ]
     },
     "metadata": {
      "needs_background": "light"
     },
     "output_type": "display_data"
    }
   ],
   "source": [
    "# if repeat 100 time is intended repeat 100 time and print everything\n",
    "import matplotlib.pyplot as plt\n",
    "\n",
    "beta_noises = []\n",
    "alpha_noises = []\n",
    "\n",
    "for eps in [1,10]:\n",
    "    for i in range(0,100):\n",
    "        x_noise, y_noise = apply_noise(x,y,eps)\n",
    "        b1, a1 = linear_regression(x_noise, y_noise)\n",
    "        beta_noises.append(b1)\n",
    "        alpha_noises.append(a1)\n",
    "    print('Epsilon =', eps)\n",
    "    print('Betas')\n",
    "    plt.hist(beta_noises)\n",
    "    plt.show()\n",
    "    print('Alphas')\n",
    "    plt.hist(alpha_noises)\n",
    "    plt.show()\n",
    "\n"
   ]
  },
  {
   "cell_type": "markdown",
   "metadata": {},
   "source": [
    "#### Question II and III"
   ]
  },
  {
   "cell_type": "code",
   "execution_count": 27,
   "metadata": {},
   "outputs": [],
   "source": [
    "import numpy as np\n",
    "import numpy.random as npr\n",
    "import pandas as pd\n",
    "import matplotlib.pyplot as plt\n",
    "\n",
    "data = pd.read_csv('https://www.cs.helsinki.fi/u/ahonkela/teaching/tml/balances.csv', header=0, index_col=0)\n",
    "\n",
    "x = data.values[:,0]\n",
    "y = data.values[:,1]\n",
    "N = len(data)\n",
    "\n",
    "# Parameters\n",
    "div_eps = 4\n",
    "min_x = 20\n",
    "max_x = 70\n",
    "min_y = 0\n",
    "max_y = 150000\n",
    "sens_x = max_x - min_x \n",
    "sens_y = max_y - min_y \n",
    "\n",
    "np.random.seed(0)\n",
    "def apply_noise(x, y, eps):\n",
    "    x = np.clip(x, min_x, max_x)\n",
    "    y = np.clip(y, min_y, max_y)\n",
    "    noise_x = npr.laplace(size=N)\n",
    "    noise_y = npr.laplace(size=N)\n",
    "    return x+noise_x*(sens_x/(eps/div_eps)), y+noise_y*(sens_y/(eps/div_eps))\n",
    "\n",
    "def estimate_means(x, y, eps):\n",
    "    noise_x = npr.laplace(size=N)\n",
    "    noise_y = npr.laplace(size=N)\n",
    "    x+=noise_x*(sens_x/(eps/div_eps))\n",
    "    y+=noise_y*(sens_y/(eps/div_eps))\n",
    "    return np.average(x), np.average(y)\n",
    "\n",
    "def modif_linear_regression(x,y, eps):\n",
    "    avg_x, avg_y = estimate_means(x,y,eps)\n",
    "    beta = np.sum((x-avg_x)*(y-avg_y))/np.sum((x-avg_x)**2)\n",
    "    alpha = avg_y-beta*avg_x\n",
    "    return beta, alpha\n"
   ]
  },
  {
   "cell_type": "code",
   "execution_count": 28,
   "metadata": {},
   "outputs": [
    {
     "name": "stdout",
     "output_type": "stream",
     "text": [
      "Epsilon = 1\n",
      "beta_noise\t\talpha_noise\n",
      "-27.709454980448253 \t 44332.450316057206 \n",
      "\n",
      "Epsilon = 10\n",
      "beta_noise\t\talpha_noise\n",
      "138.34319778123904 \t 44547.344393899555 \n",
      "\n"
     ]
    }
   ],
   "source": [
    "# if repeat 100 times is intended be the mean of beta and alpha\n",
    "beta_noise = 0\n",
    "alpha_noise = 0\n",
    "\n",
    "for eps in [1,10]:\n",
    "    for i in range(0,100):\n",
    "        x_noise, y_noise = apply_noise(x,y,eps)\n",
    "        b1, a1 = modif_linear_regression(x_noise, y_noise, eps)\n",
    "        beta_noise+=b1\n",
    "        alpha_noise+=a1\n",
    "\n",
    "    beta_noise/=100\n",
    "    alpha_noise/=100\n",
    "    print('Epsilon =', eps)\n",
    "    print('beta_noise\\t\\talpha_noise')\n",
    "    print(beta_noise,'\\t',alpha_noise,'\\n')"
   ]
  },
  {
   "cell_type": "code",
   "execution_count": 29,
   "metadata": {},
   "outputs": [
    {
     "name": "stdout",
     "output_type": "stream",
     "text": [
      "Epsilon = 1\n",
      "Betas\n"
     ]
    },
    {
     "data": {
      "image/png": "[encoded data removed]",
      "text/plain": [
       "<Figure size 432x288 with 1 Axes>"
      ]
     },
     "metadata": {
      "needs_background": "light"
     },
     "output_type": "display_data"
    },
    {
     "name": "stdout",
     "output_type": "stream",
     "text": [
      "Alphas\n"
     ]
    },
    {
     "data": {
      "image/png": "[encoded data removed]",
      "text/plain": [
       "<Figure size 432x288 with 1 Axes>"
      ]
     },
     "metadata": {
      "needs_background": "light"
     },
     "output_type": "display_data"
    },
    {
     "name": "stdout",
     "output_type": "stream",
     "text": [
      "Epsilon = 10\n",
      "Betas\n"
     ]
    },
    {
     "data": {
      "image/png": "[encoded data removed]",
      "text/plain": [
       "<Figure size 432x288 with 1 Axes>"
      ]
     },
     "metadata": {
      "needs_background": "light"
     },
     "output_type": "display_data"
    },
    {
     "name": "stdout",
     "output_type": "stream",
     "text": [
      "Alphas\n"
     ]
    },
    {
     "data": {
      "image/png": "[encoded data removed]",
      "text/plain": [
       "<Figure size 432x288 with 1 Axes>"
      ]
     },
     "metadata": {
      "needs_background": "light"
     },
     "output_type": "display_data"
    }
   ],
   "source": [
    "# if repeat 100 time is intended repeat 100 time and print everything\n",
    "import matplotlib.pyplot as plt\n",
    "\n",
    "beta_noises = []\n",
    "alpha_noises = []\n",
    "\n",
    "for eps in [1,10]:\n",
    "    for i in range(0,100):\n",
    "        x_noise, y_noise = apply_noise(x,y,eps)\n",
    "        b1, a1 = modif_linear_regression(x_noise, y_noise, eps)\n",
    "        beta_noises.append(b1)\n",
    "        alpha_noises.append(a1)\n",
    "    print('Epsilon =', eps)\n",
    "    print('Betas')\n",
    "    plt.hist(beta_noises)\n",
    "    plt.show()\n",
    "    print('Alphas')\n",
    "    plt.hist(alpha_noises)\n",
    "    plt.show()"
   ]
  },
  {
   "cell_type": "markdown",
   "metadata": {},
   "source": [
    "#### Question IV"
   ]
  },
  {
   "cell_type": "code",
   "execution_count": 32,
   "metadata": {},
   "outputs": [],
   "source": [
    "import numpy as np\n",
    "import numpy.random as npr\n",
    "import pandas as pd\n",
    "import matplotlib.pyplot as plt\n",
    "\n",
    "data = pd.read_csv('https://www.cs.helsinki.fi/u/ahonkela/teaching/tml/balances.csv', header=0, index_col=0)\n",
    "\n",
    "x = data.values[:,0]\n",
    "y = data.values[:,1]\n",
    "N = len(data)\n",
    "\n",
    "# Parameters\n",
    "div_eps = 4\n",
    "min_x = 20\n",
    "max_x = 70\n",
    "min_y = 0\n",
    "max_y = 150000\n",
    "sens_x = max_x - min_x\n",
    "sens_y = max_y - min_y\n",
    "\n",
    "np.random.seed(0)\n",
    "def apply_noise(x, y, eps):\n",
    "    x = np.clip(x, min_x, max_x)\n",
    "    y = np.clip(y, min_y, max_y)\n",
    "    noise_x = npr.laplace(size=N)\n",
    "    noise_y = npr.laplace(size=N)\n",
    "    return x+noise_x*(sens_x/(eps/div_eps)), y+noise_y*(sens_y/(eps/div_eps))\n",
    "\n",
    "def apply_final_noise(x, eps):\n",
    "    noise = npr.laplace(size=1)\n",
    "    return x+noise*(sens_x/(eps/div_eps))\n",
    "\n",
    "def modif2_linear_regression(x,y, eps):\n",
    "    avg_x, avg_y = np.average(x), np.average(y)\n",
    "    beta = apply_final_noise(np.sum((x-avg_x)*(y-avg_y)),eps)/apply_final_noise(np.sum((x-avg_x)**2),eps)\n",
    "    alpha = avg_y-beta*avg_x\n",
    "    return beta, alpha\n",
    "\n"
   ]
  },
  {
   "cell_type": "code",
   "execution_count": 33,
   "metadata": {},
   "outputs": [
    {
     "name": "stdout",
     "output_type": "stream",
     "text": [
      "Epsilon = 1\n",
      "beta_noise\t\talpha_noise\n",
      "[-2.55112117] \t [51515.8860631] \n",
      "\n",
      "Epsilon = 10\n",
      "beta_noise\t\talpha_noise\n",
      "[227.46524239] \t [39588.31024616] \n",
      "\n"
     ]
    }
   ],
   "source": [
    "# if repeat 100 times is intended be the mean of beta and alpha\n",
    "beta_noise = 0\n",
    "alpha_noise = 0\n",
    "\n",
    "for eps in [1,10]:\n",
    "    for i in range(0,100):\n",
    "        x_noise, y_noise = apply_noise(x,y,eps)\n",
    "        b1, a1 = modif2_linear_regression(x_noise, y_noise, eps)\n",
    "        beta_noise+=b1\n",
    "        alpha_noise+=a1\n",
    "\n",
    "    beta_noise/=100\n",
    "    alpha_noise/=100\n",
    "    print('Epsilon =', eps)\n",
    "    print('beta_noise\\t\\talpha_noise')\n",
    "    print(beta_noise,'\\t',alpha_noise,'\\n')"
   ]
  },
  {
   "cell_type": "code",
   "execution_count": 34,
   "metadata": {},
   "outputs": [
    {
     "name": "stdout",
     "output_type": "stream",
     "text": [
      "Epsilon = 1\n",
      "Betas\n"
     ]
    },
    {
     "data": {
      "image/png": "[encoded data removed]",
      "text/plain": [
       "<Figure size 432x288 with 1 Axes>"
      ]
     },
     "metadata": {
      "needs_background": "light"
     },
     "output_type": "display_data"
    },
    {
     "name": "stdout",
     "output_type": "stream",
     "text": [
      "Alphas\n"
     ]
    },
    {
     "data": {
      "image/png": "[encoded data removed]",
      "text/plain": [
       "<Figure size 432x288 with 1 Axes>"
      ]
     },
     "metadata": {
      "needs_background": "light"
     },
     "output_type": "display_data"
    },
    {
     "name": "stdout",
     "output_type": "stream",
     "text": [
      "Epsilon = 10\n",
      "Betas\n"
     ]
    },
    {
     "data": {
      "image/png": "[encoded data removed]",
      "text/plain": [
       "<Figure size 432x288 with 1 Axes>"
      ]
     },
     "metadata": {
      "needs_background": "light"
     },
     "output_type": "display_data"
    },
    {
     "name": "stdout",
     "output_type": "stream",
     "text": [
      "Alphas\n"
     ]
    },
    {
     "data": {
      "image/png": "[encoded data removed]",
      "text/plain": [
       "<Figure size 432x288 with 1 Axes>"
      ]
     },
     "metadata": {
      "needs_background": "light"
     },
     "output_type": "display_data"
    }
   ],
   "source": [
    "import matplotlib.pyplot as plt\n",
    "\n",
    "beta_noises = []\n",
    "alpha_noises = []\n",
    "\n",
    "for eps in [1,10]:\n",
    "    for i in range(0,100):\n",
    "        x_noise, y_noise = apply_noise(x,y,eps)\n",
    "        b1, a1 = modif_linear_regression(x_noise, y_noise, eps)\n",
    "        beta_noises.append(b1)\n",
    "        alpha_noises.append(a1)\n",
    "    print('Epsilon =', eps)\n",
    "    print('Betas')\n",
    "    plt.hist(beta_noises)\n",
    "    plt.show()\n",
    "    print('Alphas')\n",
    "    plt.hist(alpha_noises)\n",
    "    plt.show()"
   ]
  }
 ],
 "metadata": {
  "interpreter": {
   "hash": "916dbcbb3f70747c44a77c7bcd40155683ae19c65e1c03b4aa3499c5328201f1"
  },
  "kernelspec": {
   "display_name": "Python 3.8.10 64-bit",
   "name": "python3"
  },
  "language_info": {
   "codemirror_mode": {
    "name": "ipython",
    "version": 3
   },
   "file_extension": ".py",
   "mimetype": "text/x-python",
   "name": "python",
   "nbconvert_exporter": "python",
   "pygments_lexer": "ipython3",
   "version": "3.9.7"
  }
 },
 "nbformat": 4,
 "nbformat_minor": 4
}
